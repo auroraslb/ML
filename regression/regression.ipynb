{
 "cells": [
  {
   "cell_type": "code",
   "execution_count": 244,
   "id": "4ee54dd7-24e1-42b2-8559-d7c2f3d07652",
   "metadata": {},
   "outputs": [],
   "source": [
    "import numpy as np\n",
    "from sklearn.neighbors import KNeighborsRegressor\n",
    "from sklearn.linear_model import LinearRegression, Ridge, Lasso\n",
    "from sklearn.model_selection import train_test_split, cross_val_predict\n",
    "from sklearn.metrics import mean_squared_error\n",
    "from eval_scores import scores\n",
    "\n",
    "all_scores = {}"
   ]
  },
  {
   "cell_type": "code",
   "execution_count": 245,
   "id": "496ba9a7-3b6f-4b08-b81a-82023a30ee5e",
   "metadata": {},
   "outputs": [],
   "source": [
    "#Extract data\n",
    "X = np.load('Xtrain_Regression_Part1.npy')\n",
    "y = np.load('Ytrain_Regression_Part1.npy')\n",
    "#X = np.load('/Users/karolineherleiksplass/OneDrive - NTNU/_IST/P1/MachineLearning/git_ML/regression/Xtrain_Regression_Part1.npy')\n",
    "#y = np.load('/Users/karolineherleiksplass/OneDrive - NTNU/_IST/P1/MachineLearning/git_ML/regression/Ytrain_Regression_Part1.npy')"
   ]
  },
  {
   "cell_type": "code",
   "execution_count": 246,
   "id": "c7fe0b78-ef56-42ed-bfde-e7f74811ff37",
   "metadata": {},
   "outputs": [],
   "source": [
    "#Create training and validation sets\n",
    "X_train, X_validate, y_train, y_validate = train_test_split(X, y)"
   ]
  },
  {
   "cell_type": "code",
   "execution_count": 247,
   "id": "dd53c80c-903f-411d-beef-e7a56e0249c9",
   "metadata": {},
   "outputs": [],
   "source": [
    "# !! Only run this one after a fresh run of the cell above\n",
    "\n",
    "## Create X-traning and X-validation sets with less features\n",
    "\n",
    "# Between 0 and 19\n",
    "index_from = 0\n",
    "index_to = 15\n",
    "\n",
    "#X_train = X_train[:,index_from:index_to]\n",
    "#X_validate = X_validate[:,index_from:index_to]\n"
   ]
  },
  {
   "cell_type": "code",
   "execution_count": 248,
   "id": "f2838549-f856-49b4-8829-718937d683ca",
   "metadata": {},
   "outputs": [
    {
     "name": "stdout",
     "output_type": "stream",
     "text": [
      "Linear Result:\n",
      "The Mean Square Error is 0.019767855599129268\n"
     ]
    }
   ],
   "source": [
    "## Linear model\n",
    "linear_regression_model = LinearRegression()\n",
    "\n",
    "# Training\n",
    "linear_regression_model.fit(X_train, y_train)\n",
    "\n",
    "# Predict for validation set\n",
    "linear_regression_predictions = linear_regression_model.predict(X_validate)\n",
    "\n",
    "# MSE\n",
    "linear_regression_mse = mean_squared_error(linear_regression_predictions, y_validate)\n",
    "\n",
    "# Result\n",
    "print('Linear Result:')\n",
    "score_linear = scores(y_validate,linear_regression_predictions,'r')\n",
    "all_scores['Linear'] = score_linear"
   ]
  },
  {
   "cell_type": "code",
   "execution_count": 249,
   "id": "b32d74a1-eec7-497b-a377-525a5ee2fd43",
   "metadata": {},
   "outputs": [
    {
     "name": "stdout",
     "output_type": "stream",
     "text": [
      "Ridge Result:\n",
      "The Mean Square Error is 0.01792209525260397\n"
     ]
    }
   ],
   "source": [
    "## Ridge\n",
    "ridge_regmod = Ridge(alpha=.37)\n",
    "\n",
    "# Training\n",
    "ridge_regmod.fit(X_train, y_train)\n",
    "\n",
    "# Predict for validation set\n",
    "ridge_reg_pred = ridge_regmod.predict(X_validate)\n",
    "\n",
    "# MSE\n",
    "ridge_reg_mse = mean_squared_error(ridge_reg_pred, y_validate)\n",
    "\n",
    "print('Ridge Result:')\n",
    "score_ridge = scores(y_validate,ridge_reg_pred,'r')\n",
    "all_scores['Ridge'] = score_ridge"
   ]
  },
  {
   "cell_type": "code",
   "execution_count": 250,
   "id": "37cb3612-6b5f-4972-9e4b-905f7655ecb5",
   "metadata": {},
   "outputs": [
    {
     "name": "stdout",
     "output_type": "stream",
     "text": [
      "Lasso MSE before reshape: 0.01999460133393165\n",
      "Lasso Result:\n",
      "The Mean Square Error is 0.01999460133393165\n"
     ]
    }
   ],
   "source": [
    "## Lasso\n",
    "lasso_regmod = Lasso(0.0049)\n",
    "\n",
    "# Training\n",
    "lasso_regmod.fit(X_train, y_train)\n",
    "\n",
    "# Predict for validation set\n",
    "lasso_reg_pred = lasso_regmod.predict(X_validate)\n",
    "\n",
    "# MSE\n",
    "lasso_reg_mse = mean_squared_error(lasso_reg_pred, y_validate)\n",
    "print('Lasso MSE before reshape:', lasso_reg_mse)\n",
    "\n",
    "print('Lasso Result:')\n",
    "score_lasso = scores(y_validate,lasso_reg_pred.reshape(25,1),'r')\n",
    "all_scores['Lasso'] = score_lasso\n"
   ]
  },
  {
   "cell_type": "code",
   "execution_count": 251,
   "id": "7af44ac8-0fe5-480a-b058-3cbbd226206f",
   "metadata": {},
   "outputs": [
    {
     "name": "stdout",
     "output_type": "stream",
     "text": [
      "KNN Result:\n",
      "The Mean Square Error is 7.429178116970389\n"
     ]
    }
   ],
   "source": [
    "## KNN\n",
    "K = 1\n",
    "knn_regmod = KNeighborsRegressor(n_neighbors = K)\n",
    "\n",
    "# Training\n",
    "knn_regmod.fit(X_train, y_train)\n",
    "\n",
    "# Predict for validation set\n",
    "knn_reg_pred = knn_regmod.predict(X_validate)\n",
    "\n",
    "# MSE\n",
    "knn_reg_mse = mean_squared_error(knn_reg_pred, y_validate)\n",
    "\n",
    "print('KNN Result:')\n",
    "score_knn = scores(y_validate,knn_reg_pred,'r')\n",
    "all_scores['KNN'] = score_knn"
   ]
  },
  {
   "cell_type": "code",
   "execution_count": 252,
   "id": "32e7bff1-b074-4a19-9177-1a3a189b99f3",
   "metadata": {},
   "outputs": [
    {
     "name": "stdout",
     "output_type": "stream",
     "text": [
      "Linear 0.019767855599129268\n",
      "Ridge 0.01792209525260397\n",
      "Lasso 0.01999460133393165\n",
      "KNN 7.429178116970389\n"
     ]
    }
   ],
   "source": [
    "## COMPARING RESULTS:\n",
    "\n",
    "for key in all_scores:\n",
    "    print(key, all_scores[key])"
   ]
  }
 ],
 "metadata": {
  "interpreter": {
   "hash": "d47783060a9e7b1ed7fd56f087cf7f42367dcb02725d8ff4998ef003b78c6e0c"
  },
  "kernelspec": {
   "display_name": "Python 3.8.8 64-bit ('base': conda)",
   "name": "python3"
  },
  "language_info": {
   "codemirror_mode": {
    "name": "ipython",
    "version": 3
   },
   "file_extension": ".py",
   "mimetype": "text/x-python",
   "name": "python",
   "nbconvert_exporter": "python",
   "pygments_lexer": "ipython3",
   "version": "3.8.8"
  }
 },
 "nbformat": 4,
 "nbformat_minor": 5
}
