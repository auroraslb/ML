{
 "cells": [
  {
   "cell_type": "code",
   "execution_count": 43,
   "id": "4ee54dd7-24e1-42b2-8559-d7c2f3d07652",
   "metadata": {},
   "outputs": [],
   "source": [
    "import numpy as np\n",
    "from sklearn.neighbors import KNeighborsRegressor\n",
    "from sklearn.linear_model import LinearRegression, Ridge, Lasso, ElasticNet, RANSACRegressor, BayesianRidge\n",
    "from sklearn.model_selection import train_test_split, cross_val_predict\n",
    "from sklearn.metrics import mean_squared_error\n",
    "from eval_scores import scores\n",
    "\n",
    "all_scores = {}"
   ]
  },
  {
   "cell_type": "code",
   "execution_count": 44,
   "id": "496ba9a7-3b6f-4b08-b81a-82023a30ee5e",
   "metadata": {},
   "outputs": [],
   "source": [
    "#Extract data\n",
    "X = np.load('Xtrain_Regression_Part1.npy')\n",
    "y = np.load('Ytrain_Regression_Part1.npy')\n",
    "#X = np.load('/Users/karolineherleiksplass/OneDrive - NTNU/_IST/P1/MachineLearning/git_ML/regression/Xtrain_Regression_Part1.npy')\n",
    "#y = np.load('/Users/karolineherleiksplass/OneDrive - NTNU/_IST/P1/MachineLearning/git_ML/regression/Ytrain_Regression_Part1.npy')"
   ]
  },
  {
   "cell_type": "code",
   "execution_count": 45,
   "id": "c7fe0b78-ef56-42ed-bfde-e7f74811ff37",
   "metadata": {},
   "outputs": [],
   "source": [
    "#Create training and validation sets\n",
    "X_train, X_validate, y_train, y_validate = train_test_split(X, y)"
   ]
  },
  {
   "cell_type": "code",
   "execution_count": 46,
   "id": "dd53c80c-903f-411d-beef-e7a56e0249c9",
   "metadata": {},
   "outputs": [],
   "source": [
    "# !! Only run this one after a fresh run of the cell above\n",
    "\n",
    "## Create X-traning and X-validation sets with less features\n",
    "\n",
    "# Between 0 and 19\n",
    "index_from = 0\n",
    "index_to = 15\n",
    "\n",
    "#X_train = X_train[:,index_from:index_to]\n",
    "#X_validate = X_validate[:,index_from:index_to]\n"
   ]
  },
  {
   "cell_type": "code",
   "execution_count": 47,
   "id": "f2838549-f856-49b4-8829-718937d683ca",
   "metadata": {},
   "outputs": [
    {
     "name": "stdout",
     "output_type": "stream",
     "text": [
      "Linear Result:\n",
      "The Mean Square Error is 0.021183563207469572\n"
     ]
    }
   ],
   "source": [
    "## Linear model\n",
    "linear_regression_model = LinearRegression(normalize=True)\n",
    "\n",
    "# Training\n",
    "linear_regression_model.fit(X_train, y_train)\n",
    "\n",
    "# Predict for validation set\n",
    "linear_regression_predictions = linear_regression_model.predict(X_validate)\n",
    "\n",
    "# MSE\n",
    "linear_regression_mse = mean_squared_error(linear_regression_predictions, y_validate)\n",
    "\n",
    "# Result\n",
    "print('Linear Result:')\n",
    "score_linear = scores(y_validate,linear_regression_predictions,'r')\n",
    "all_scores['Linear'] = score_linear"
   ]
  },
  {
   "cell_type": "code",
   "execution_count": 48,
   "id": "b32d74a1-eec7-497b-a377-525a5ee2fd43",
   "metadata": {},
   "outputs": [
    {
     "name": "stdout",
     "output_type": "stream",
     "text": [
      "Ridge Result:\n",
      "The Mean Square Error is 0.018055246036572055\n"
     ]
    }
   ],
   "source": [
    "## Ridge\n",
    "ridge_regmod = Ridge(alpha=.37)\n",
    "\n",
    "# Training\n",
    "ridge_regmod.fit(X_train, y_train)\n",
    "\n",
    "# Predict for validation set\n",
    "ridge_reg_pred = ridge_regmod.predict(X_validate)\n",
    "\n",
    "# MSE\n",
    "ridge_reg_mse = mean_squared_error(ridge_reg_pred, y_validate)\n",
    "\n",
    "print('Ridge Result:')\n",
    "score_ridge = scores(y_validate,ridge_reg_pred,'r')\n",
    "all_scores['Ridge'] = score_ridge"
   ]
  },
  {
   "cell_type": "code",
   "execution_count": 49,
   "id": "37cb3612-6b5f-4972-9e4b-905f7655ecb5",
   "metadata": {},
   "outputs": [
    {
     "name": "stdout",
     "output_type": "stream",
     "text": [
      "Lasso MSE before reshape: 0.020101272443218778\n",
      "Lasso Result:\n",
      "The Mean Square Error is 0.020101272443218778\n"
     ]
    }
   ],
   "source": [
    "## Lasso\n",
    "lasso_regmod = Lasso(0.0049)\n",
    "\n",
    "# Training\n",
    "lasso_regmod.fit(X_train, y_train)\n",
    "\n",
    "# Predict for validation set\n",
    "lasso_reg_pred = lasso_regmod.predict(X_validate)\n",
    "\n",
    "# MSE\n",
    "lasso_reg_mse = mean_squared_error(lasso_reg_pred, y_validate)\n",
    "print('Lasso MSE before reshape:', lasso_reg_mse)\n",
    "\n",
    "print('Lasso Result:')\n",
    "score_lasso = scores(y_validate,lasso_reg_pred.reshape(25,1),'r')\n",
    "all_scores['Lasso'] = score_lasso"
   ]
  },
  {
   "cell_type": "code",
   "execution_count": 50,
   "id": "7af44ac8-0fe5-480a-b058-3cbbd226206f",
   "metadata": {},
   "outputs": [
    {
     "name": "stdout",
     "output_type": "stream",
     "text": [
      "KNN Result:\n",
      "The Mean Square Error is 10.283381686433\n"
     ]
    }
   ],
   "source": [
    "## KNN\n",
    "K = 1\n",
    "knn_regmod = KNeighborsRegressor(n_neighbors = K)\n",
    "\n",
    "# Training\n",
    "knn_regmod.fit(X_train, y_train)\n",
    "\n",
    "# Predict for validation set\n",
    "knn_reg_pred = knn_regmod.predict(X_validate)\n",
    "\n",
    "# MSE\n",
    "knn_reg_mse = mean_squared_error(knn_reg_pred, y_validate)\n",
    "\n",
    "print('KNN Result:')\n",
    "score_knn = scores(y_validate,knn_reg_pred,'r')\n",
    "all_scores['KNN'] = score_knn"
   ]
  },
  {
   "cell_type": "code",
   "execution_count": 51,
   "metadata": {},
   "outputs": [
    {
     "name": "stdout",
     "output_type": "stream",
     "text": [
      "ElasticNet Result:\n",
      "The Mean Square Error is 4.957967446453962\n"
     ]
    }
   ],
   "source": [
    "## ElasticNet\n",
    "elasticnet_regmod = ElasticNet()\n",
    "\n",
    "# Training\n",
    "elasticnet_regmod.fit(X_train, y_train)\n",
    "\n",
    "# Predict for validation set\n",
    "elasticnet_reg_pred = elasticnet_regmod.predict(X_validate)\n",
    "\n",
    "# MSE\n",
    "elaticnet_reg_mse = mean_squared_error(elasticnet_reg_pred, y_validate)\n",
    "\n",
    "print('ElasticNet Result:')\n",
    "score_elasticnet = scores(y_validate,elasticnet_reg_pred.reshape(25,1),'r')\n",
    "all_scores['ElasticNet'] = score_elasticnet"
   ]
  },
  {
   "cell_type": "code",
   "execution_count": 52,
   "metadata": {},
   "outputs": [
    {
     "name": "stdout",
     "output_type": "stream",
     "text": [
      "Ransac Result:\n",
      "The Mean Square Error is 0.021183563207469662\n"
     ]
    }
   ],
   "source": [
    "## RANSAC - more relevant for outlier problem?\n",
    "ransac_regmod = RANSACRegressor()\n",
    "\n",
    "# Training\n",
    "ransac_regmod.fit(X_train, y_train)\n",
    "\n",
    "# Predict for validation set\n",
    "ransac_reg_pred = ransac_regmod.predict(X_validate)\n",
    "\n",
    "# MSE\n",
    "ransac_reg_mse = mean_squared_error(ransac_reg_pred, y_validate)\n",
    "\n",
    "print('Ransac Result:')\n",
    "score_ransac = scores(y_validate,ransac_reg_pred,'r')\n",
    "all_scores['Ransac'] = score_ransac"
   ]
  },
  {
   "cell_type": "code",
   "execution_count": null,
   "metadata": {},
   "outputs": [],
   "source": [
    "## Bayesian Ridge\n",
    "bayridge_regmod = BayesianRidge()\n",
    "\n",
    "# Training\n",
    "bayridge_regmod.fit(X_train, y_train.reshape(75,))\n",
    "\n",
    "# Predict for validation set\n",
    "bayridge_reg_pred = bayridge_regmod.predict(X_validate)\n",
    "\n",
    "# MSE\n",
    "bayridge_reg_mse = mean_squared_error(bayridge_reg_pred, y_validate.reshape(25,))\n",
    "\n",
    "print('Bayesian Ridge Result:')\n",
    "score_bayridge = scores(y_validate.reshape(25,),bayridge_reg_pred.reshape(25,),'r')\n",
    "all_scores['Bayesian Ridge'] = score_bayridge"
   ]
  },
  {
   "cell_type": "code",
   "execution_count": 53,
   "id": "32e7bff1-b074-4a19-9177-1a3a189b99f3",
   "metadata": {},
   "outputs": [
    {
     "name": "stdout",
     "output_type": "stream",
     "text": [
      "Linear 0.021183563207469572\n",
      "Ridge 0.018055246036572055\n",
      "Lasso 0.020101272443218778\n",
      "KNN 10.283381686433\n",
      "ElasticNet 4.957967446453962\n",
      "Ransac 0.021183563207469662\n"
     ]
    }
   ],
   "source": [
    "## COMPARING RESULTS:\n",
    "\n",
    "for key in all_scores:\n",
    "    print(key, all_scores[key])"
   ]
  }
 ],
 "metadata": {
  "interpreter": {
   "hash": "a6e209f2a68512a9026a147c23a5d9c092a4d14bfae34caa0ff3e172b54705d6"
  },
  "kernelspec": {
   "display_name": "Python 3.8.8 64-bit ('base': conda)",
   "name": "python3"
  },
  "language_info": {
   "codemirror_mode": {
    "name": "ipython",
    "version": 3
   },
   "file_extension": ".py",
   "mimetype": "text/x-python",
   "name": "python",
   "nbconvert_exporter": "python",
   "pygments_lexer": "ipython3",
   "version": "3.8.8"
  }
 },
 "nbformat": 4,
 "nbformat_minor": 5
}
