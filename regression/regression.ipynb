{
 "cells": [
  {
   "cell_type": "code",
   "execution_count": 1,
   "id": "4ee54dd7-24e1-42b2-8559-d7c2f3d07652",
   "metadata": {},
   "outputs": [],
   "source": [
    "import numpy as np\n",
    "from sklearn.neighbors import KNeighborsRegressor\n",
    "from sklearn.linear_model import LinearRegression, Ridge, Lasso\n",
    "from sklearn.model_selection import train_test_split\n",
    "from sklearn.metrics import mean_squared_error\n",
    "import matplotlib.pyplot as plt"
   ]
  },
  {
   "cell_type": "code",
   "execution_count": 3,
   "id": "496ba9a7-3b6f-4b08-b81a-82023a30ee5e",
   "metadata": {},
   "outputs": [],
   "source": [
    "#Extract data\n",
    "X = np.load('Xtrain_Regression_Part1.npy')\n",
    "y = np.load('Ytrain_Regression_Part1.npy')"
   ]
  },
  {
   "cell_type": "code",
   "execution_count": 4,
   "id": "c7fe0b78-ef56-42ed-bfde-e7f74811ff37",
   "metadata": {},
   "outputs": [],
   "source": [
    "#Create training and validation sets\n",
    "X_train, X_validate, y_train, y_validate = train_test_split(X, y)"
   ]
  },
  {
   "cell_type": "code",
   "execution_count": 5,
   "id": "f2838549-f856-49b4-8829-718937d683ca",
   "metadata": {},
   "outputs": [
    {
     "name": "stdout",
     "output_type": "stream",
     "text": [
      "0.018832169540194177\n"
     ]
    }
   ],
   "source": [
    "## Linear model\n",
    "linear_regression_model = LinearRegression()\n",
    "\n",
    "# Training\n",
    "linear_regression_model.fit(X_train, y_train)\n",
    "\n",
    "# Predict for validation set\n",
    "linear_regression_predictions = linear_regression_model.predict(X_validate)\n",
    "\n",
    "# MSE\n",
    "linear_regression_mse = mean_squared_error(linear_regression_predictions, y_validate)\n",
    "print(linear_regression_mse)"
   ]
  },
  {
   "cell_type": "code",
   "execution_count": 6,
   "id": "b32d74a1-eec7-497b-a377-525a5ee2fd43",
   "metadata": {},
   "outputs": [
    {
     "name": "stdout",
     "output_type": "stream",
     "text": [
      "0.014475298642533886\n"
     ]
    }
   ],
   "source": [
    "## Ridge\n",
    "ridge_regmod = Ridge(alpha=.5)\n",
    "\n",
    "# Training\n",
    "ridge_regmod.fit(X_train, y_train)\n",
    "\n",
    "# Predict for validation set\n",
    "ridge_reg_pred = ridge_regmod.predict(X_validate)\n",
    "\n",
    "# MSE\n",
    "ridge_reg_mse = mean_squared_error(ridge_reg_pred, y_validate)\n",
    "print(ridge_reg_mse)"
   ]
  },
  {
   "cell_type": "code",
   "execution_count": 11,
   "id": "37cb3612-6b5f-4972-9e4b-905f7655ecb5",
   "metadata": {},
   "outputs": [
    {
     "name": "stdout",
     "output_type": "stream",
     "text": [
      "0.20218848452079957\n"
     ]
    }
   ],
   "source": [
    "## Lasso\n",
    "lasso_regmod = Lasso(alpha=0.1)\n",
    "\n",
    "# Training\n",
    "lasso_regmod.fit(X_train, y_train)\n",
    "\n",
    "# Predict for validation set\n",
    "lasso_reg_pred = lasso_regmod.predict(X_validate)\n",
    "\n",
    "# MSE\n",
    "lasso_reg_mse = mean_squared_error(lasso_reg_pred, y_validate)\n",
    "print(lasso_reg_mse)"
   ]
  },
  {
   "cell_type": "code",
   "execution_count": 10,
   "id": "7af44ac8-0fe5-480a-b058-3cbbd226206f",
   "metadata": {},
   "outputs": [
    {
     "data": {
      "text/plain": [
       "12.05247148496701"
      ]
     },
     "execution_count": 10,
     "metadata": {},
     "output_type": "execute_result"
    }
   ],
   "source": [
    "## KNN\n",
    "K = 15\n",
    "knn_regmod = KNeighborsRegressor(n_neighbors = K)\n",
    "\n",
    "# Training\n",
    "knn_regmod.fit(X_train, y_train)\n",
    "\n",
    "# Predict for validation set\n",
    "knn_reg_pred = knn_regmod.predict(X_validate)\n",
    "\n",
    "# MSE\n",
    "knn_reg_mse = mean_squared_error(knn_reg_pred, y_validate)\n",
    "(knn_reg_mse)"
   ]
  },
  {
   "cell_type": "code",
   "execution_count": null,
   "id": "68718fb3-d48f-47e9-81e8-ca0a853a90f0",
   "metadata": {},
   "outputs": [],
   "source": [
    "\n",
    "\n"
   ]
  },
  {
   "cell_type": "code",
   "execution_count": null,
   "id": "32e7bff1-b074-4a19-9177-1a3a189b99f3",
   "metadata": {},
   "outputs": [],
   "source": []
  }
 ],
 "metadata": {
  "kernelspec": {
   "display_name": "Python 3",
   "language": "python",
   "name": "python3"
  },
  "language_info": {
   "codemirror_mode": {
    "name": "ipython",
    "version": 3
   },
   "file_extension": ".py",
   "mimetype": "text/x-python",
   "name": "python",
   "nbconvert_exporter": "python",
   "pygments_lexer": "ipython3",
   "version": "3.8.8"
  }
 },
 "nbformat": 4,
 "nbformat_minor": 5
}
