{
 "cells": [
  {
   "cell_type": "code",
   "execution_count": 23,
   "metadata": {},
   "outputs": [],
   "source": [
    "#Import\n",
    "import numpy as np\n",
    "import pandas as pd\n",
    "import matplotlib.pyplot as plt\n",
    "from sklearn.linear_model import BayesianRidge, LinearRegression, RANSACRegressor\n",
    "from sklearn.model_selection import train_test_split\n",
    "from eval_scores import scores"
   ]
  },
  {
   "cell_type": "code",
   "execution_count": 24,
   "metadata": {},
   "outputs": [],
   "source": [
    "#Extract data\n",
    "X = np.load('Xtrain_Regression_Part2.npy')\n",
    "y = np.load('Ytrain_Regression_Part2.npy')\n",
    "X_test = np.load('Xtest_Regression_Part2.npy')"
   ]
  },
  {
   "cell_type": "code",
   "execution_count": 25,
   "metadata": {},
   "outputs": [
    {
     "data": {
      "text/html": [
       "<div>\n",
       "<style scoped>\n",
       "    .dataframe tbody tr th:only-of-type {\n",
       "        vertical-align: middle;\n",
       "    }\n",
       "\n",
       "    .dataframe tbody tr th {\n",
       "        vertical-align: top;\n",
       "    }\n",
       "\n",
       "    .dataframe thead th {\n",
       "        text-align: right;\n",
       "    }\n",
       "</style>\n",
       "<table border=\"1\" class=\"dataframe\">\n",
       "  <thead>\n",
       "    <tr style=\"text-align: right;\">\n",
       "      <th></th>\n",
       "      <th>Column_1</th>\n",
       "      <th>Column_2</th>\n",
       "      <th>Column_3</th>\n",
       "      <th>Column_4</th>\n",
       "      <th>Column_5</th>\n",
       "      <th>Column_6</th>\n",
       "      <th>Column_7</th>\n",
       "      <th>Column_8</th>\n",
       "      <th>Column_9</th>\n",
       "      <th>Column_10</th>\n",
       "      <th>Column_11</th>\n",
       "      <th>Column_12</th>\n",
       "      <th>Column_13</th>\n",
       "      <th>Column_14</th>\n",
       "      <th>Column_15</th>\n",
       "      <th>Column_16</th>\n",
       "      <th>Column_17</th>\n",
       "      <th>Column_18</th>\n",
       "      <th>Column_19</th>\n",
       "      <th>Column_20</th>\n",
       "    </tr>\n",
       "  </thead>\n",
       "  <tbody>\n",
       "    <tr>\n",
       "      <th>0</th>\n",
       "      <td>-1.290089</td>\n",
       "      <td>0.038961</td>\n",
       "      <td>0.228235</td>\n",
       "      <td>0.101686</td>\n",
       "      <td>-0.067296</td>\n",
       "      <td>-0.637278</td>\n",
       "      <td>-0.295017</td>\n",
       "      <td>-0.450571</td>\n",
       "      <td>-2.405162</td>\n",
       "      <td>2.328489</td>\n",
       "      <td>-1.086107</td>\n",
       "      <td>-0.675255</td>\n",
       "      <td>0.288608</td>\n",
       "      <td>0.282775</td>\n",
       "      <td>0.217768</td>\n",
       "      <td>0.929042</td>\n",
       "      <td>0.705605</td>\n",
       "      <td>0.130496</td>\n",
       "      <td>-1.616716</td>\n",
       "      <td>0.004275</td>\n",
       "    </tr>\n",
       "    <tr>\n",
       "      <th>1</th>\n",
       "      <td>0.963710</td>\n",
       "      <td>1.841056</td>\n",
       "      <td>1.251256</td>\n",
       "      <td>-1.603235</td>\n",
       "      <td>0.340050</td>\n",
       "      <td>-0.233890</td>\n",
       "      <td>1.726259</td>\n",
       "      <td>0.485200</td>\n",
       "      <td>-1.555082</td>\n",
       "      <td>0.872393</td>\n",
       "      <td>0.776311</td>\n",
       "      <td>-0.114605</td>\n",
       "      <td>-0.448800</td>\n",
       "      <td>1.338183</td>\n",
       "      <td>2.203141</td>\n",
       "      <td>-0.179866</td>\n",
       "      <td>0.134610</td>\n",
       "      <td>-0.198595</td>\n",
       "      <td>0.499642</td>\n",
       "      <td>-1.133330</td>\n",
       "    </tr>\n",
       "    <tr>\n",
       "      <th>2</th>\n",
       "      <td>0.652553</td>\n",
       "      <td>0.533144</td>\n",
       "      <td>-1.787609</td>\n",
       "      <td>-1.169125</td>\n",
       "      <td>-0.525402</td>\n",
       "      <td>0.257441</td>\n",
       "      <td>-0.629267</td>\n",
       "      <td>0.162554</td>\n",
       "      <td>-0.985946</td>\n",
       "      <td>-1.245303</td>\n",
       "      <td>0.762217</td>\n",
       "      <td>0.427465</td>\n",
       "      <td>0.834908</td>\n",
       "      <td>1.686784</td>\n",
       "      <td>0.051292</td>\n",
       "      <td>-0.870790</td>\n",
       "      <td>0.127209</td>\n",
       "      <td>-0.190596</td>\n",
       "      <td>-1.363593</td>\n",
       "      <td>1.465699</td>\n",
       "    </tr>\n",
       "    <tr>\n",
       "      <th>3</th>\n",
       "      <td>-0.410840</td>\n",
       "      <td>-1.257023</td>\n",
       "      <td>-0.017595</td>\n",
       "      <td>1.313880</td>\n",
       "      <td>-0.521560</td>\n",
       "      <td>2.934458</td>\n",
       "      <td>-0.520630</td>\n",
       "      <td>0.063651</td>\n",
       "      <td>-1.141947</td>\n",
       "      <td>-0.251534</td>\n",
       "      <td>-1.489881</td>\n",
       "      <td>-0.703005</td>\n",
       "      <td>1.106951</td>\n",
       "      <td>0.580637</td>\n",
       "      <td>-0.057783</td>\n",
       "      <td>-0.766014</td>\n",
       "      <td>1.569594</td>\n",
       "      <td>-0.361484</td>\n",
       "      <td>0.436235</td>\n",
       "      <td>-0.449029</td>\n",
       "    </tr>\n",
       "    <tr>\n",
       "      <th>4</th>\n",
       "      <td>-1.769616</td>\n",
       "      <td>-1.289050</td>\n",
       "      <td>1.572451</td>\n",
       "      <td>-1.764423</td>\n",
       "      <td>0.354585</td>\n",
       "      <td>-0.484731</td>\n",
       "      <td>-0.487435</td>\n",
       "      <td>-0.158962</td>\n",
       "      <td>0.467395</td>\n",
       "      <td>0.952608</td>\n",
       "      <td>-1.246483</td>\n",
       "      <td>1.599535</td>\n",
       "      <td>0.874688</td>\n",
       "      <td>0.638029</td>\n",
       "      <td>1.557111</td>\n",
       "      <td>1.344622</td>\n",
       "      <td>0.745231</td>\n",
       "      <td>0.274891</td>\n",
       "      <td>2.472565</td>\n",
       "      <td>1.583625</td>\n",
       "    </tr>\n",
       "  </tbody>\n",
       "</table>\n",
       "</div>"
      ],
      "text/plain": [
       "   Column_1  Column_2  Column_3  Column_4  Column_5  Column_6  Column_7  \\\n",
       "0 -1.290089  0.038961  0.228235  0.101686 -0.067296 -0.637278 -0.295017   \n",
       "1  0.963710  1.841056  1.251256 -1.603235  0.340050 -0.233890  1.726259   \n",
       "2  0.652553  0.533144 -1.787609 -1.169125 -0.525402  0.257441 -0.629267   \n",
       "3 -0.410840 -1.257023 -0.017595  1.313880 -0.521560  2.934458 -0.520630   \n",
       "4 -1.769616 -1.289050  1.572451 -1.764423  0.354585 -0.484731 -0.487435   \n",
       "\n",
       "   Column_8  Column_9  Column_10  Column_11  Column_12  Column_13  Column_14  \\\n",
       "0 -0.450571 -2.405162   2.328489  -1.086107  -0.675255   0.288608   0.282775   \n",
       "1  0.485200 -1.555082   0.872393   0.776311  -0.114605  -0.448800   1.338183   \n",
       "2  0.162554 -0.985946  -1.245303   0.762217   0.427465   0.834908   1.686784   \n",
       "3  0.063651 -1.141947  -0.251534  -1.489881  -0.703005   1.106951   0.580637   \n",
       "4 -0.158962  0.467395   0.952608  -1.246483   1.599535   0.874688   0.638029   \n",
       "\n",
       "   Column_15  Column_16  Column_17  Column_18  Column_19  Column_20  \n",
       "0   0.217768   0.929042   0.705605   0.130496  -1.616716   0.004275  \n",
       "1   2.203141  -0.179866   0.134610  -0.198595   0.499642  -1.133330  \n",
       "2   0.051292  -0.870790   0.127209  -0.190596  -1.363593   1.465699  \n",
       "3  -0.057783  -0.766014   1.569594  -0.361484   0.436235  -0.449029  \n",
       "4   1.557111   1.344622   0.745231   0.274891   2.472565   1.583625  "
      ]
     },
     "execution_count": 25,
     "metadata": {},
     "output_type": "execute_result"
    }
   ],
   "source": [
    "# Turning the numpy array of X into \n",
    "list_of_features = ['Column_1','Column_2','Column_3','Column_4','Column_5','Column_6','Column_7','Column_8','Column_9','Column_10','Column_11','Column_12','Column_13','Column_14','Column_15','Column_16','Column_17','Column_18','Column_19','Column_20']\n",
    "df_raw = pd.DataFrame(X, columns = list_of_features)\n",
    "y_df_raw = pd.DataFrame(y, columns = ['y'])\n",
    "\n",
    "# Have a look at the format of the data\n",
    "df_raw.head()\n"
   ]
  },
  {
   "cell_type": "code",
   "execution_count": 26,
   "metadata": {},
   "outputs": [
    {
     "data": {
      "text/plain": [
       "(100, 20)"
      ]
     },
     "execution_count": 26,
     "metadata": {},
     "output_type": "execute_result"
    }
   ],
   "source": [
    "# check the shape of the dataframe\n",
    "df_raw.shape"
   ]
  },
  {
   "cell_type": "code",
   "execution_count": 27,
   "metadata": {},
   "outputs": [
    {
     "data": {
      "text/html": [
       "<div>\n",
       "<style scoped>\n",
       "    .dataframe tbody tr th:only-of-type {\n",
       "        vertical-align: middle;\n",
       "    }\n",
       "\n",
       "    .dataframe tbody tr th {\n",
       "        vertical-align: top;\n",
       "    }\n",
       "\n",
       "    .dataframe thead th {\n",
       "        text-align: right;\n",
       "    }\n",
       "</style>\n",
       "<table border=\"1\" class=\"dataframe\">\n",
       "  <thead>\n",
       "    <tr style=\"text-align: right;\">\n",
       "      <th></th>\n",
       "      <th>Column_1</th>\n",
       "      <th>Column_2</th>\n",
       "      <th>Column_3</th>\n",
       "      <th>Column_4</th>\n",
       "      <th>Column_5</th>\n",
       "      <th>Column_6</th>\n",
       "      <th>Column_7</th>\n",
       "      <th>Column_8</th>\n",
       "      <th>Column_9</th>\n",
       "      <th>Column_10</th>\n",
       "      <th>Column_11</th>\n",
       "      <th>Column_12</th>\n",
       "      <th>Column_13</th>\n",
       "      <th>Column_14</th>\n",
       "      <th>Column_15</th>\n",
       "      <th>Column_16</th>\n",
       "      <th>Column_17</th>\n",
       "      <th>Column_18</th>\n",
       "      <th>Column_19</th>\n",
       "      <th>Column_20</th>\n",
       "    </tr>\n",
       "  </thead>\n",
       "  <tbody>\n",
       "    <tr>\n",
       "      <th>count</th>\n",
       "      <td>100.000000</td>\n",
       "      <td>100.000000</td>\n",
       "      <td>100.000000</td>\n",
       "      <td>100.000000</td>\n",
       "      <td>100.000000</td>\n",
       "      <td>100.000000</td>\n",
       "      <td>100.000000</td>\n",
       "      <td>100.000000</td>\n",
       "      <td>100.000000</td>\n",
       "      <td>100.000000</td>\n",
       "      <td>100.000000</td>\n",
       "      <td>100.000000</td>\n",
       "      <td>100.000000</td>\n",
       "      <td>100.000000</td>\n",
       "      <td>100.000000</td>\n",
       "      <td>100.000000</td>\n",
       "      <td>100.000000</td>\n",
       "      <td>100.000000</td>\n",
       "      <td>100.000000</td>\n",
       "      <td>100.000000</td>\n",
       "    </tr>\n",
       "    <tr>\n",
       "      <th>mean</th>\n",
       "      <td>-0.096306</td>\n",
       "      <td>0.103394</td>\n",
       "      <td>-0.041093</td>\n",
       "      <td>-0.036073</td>\n",
       "      <td>-0.051363</td>\n",
       "      <td>0.175977</td>\n",
       "      <td>-0.002615</td>\n",
       "      <td>0.021736</td>\n",
       "      <td>-0.110863</td>\n",
       "      <td>0.068009</td>\n",
       "      <td>0.058208</td>\n",
       "      <td>0.118485</td>\n",
       "      <td>0.102668</td>\n",
       "      <td>0.040101</td>\n",
       "      <td>0.190118</td>\n",
       "      <td>0.014326</td>\n",
       "      <td>0.066005</td>\n",
       "      <td>-0.040918</td>\n",
       "      <td>0.036576</td>\n",
       "      <td>-0.050878</td>\n",
       "    </tr>\n",
       "    <tr>\n",
       "      <th>std</th>\n",
       "      <td>0.947031</td>\n",
       "      <td>0.950758</td>\n",
       "      <td>1.073739</td>\n",
       "      <td>1.007231</td>\n",
       "      <td>0.992275</td>\n",
       "      <td>0.995634</td>\n",
       "      <td>0.924536</td>\n",
       "      <td>1.125673</td>\n",
       "      <td>1.117951</td>\n",
       "      <td>0.937170</td>\n",
       "      <td>1.024629</td>\n",
       "      <td>0.915533</td>\n",
       "      <td>0.929227</td>\n",
       "      <td>0.987411</td>\n",
       "      <td>1.113879</td>\n",
       "      <td>0.981693</td>\n",
       "      <td>0.918804</td>\n",
       "      <td>0.880285</td>\n",
       "      <td>1.065829</td>\n",
       "      <td>1.030510</td>\n",
       "    </tr>\n",
       "    <tr>\n",
       "      <th>min</th>\n",
       "      <td>-2.237765</td>\n",
       "      <td>-1.694381</td>\n",
       "      <td>-3.433329</td>\n",
       "      <td>-2.851244</td>\n",
       "      <td>-2.558154</td>\n",
       "      <td>-1.788471</td>\n",
       "      <td>-1.965246</td>\n",
       "      <td>-3.310151</td>\n",
       "      <td>-2.953069</td>\n",
       "      <td>-2.286955</td>\n",
       "      <td>-2.027333</td>\n",
       "      <td>-2.017503</td>\n",
       "      <td>-2.584288</td>\n",
       "      <td>-2.372827</td>\n",
       "      <td>-1.984497</td>\n",
       "      <td>-2.286663</td>\n",
       "      <td>-2.240194</td>\n",
       "      <td>-2.006596</td>\n",
       "      <td>-2.560387</td>\n",
       "      <td>-2.830737</td>\n",
       "    </tr>\n",
       "    <tr>\n",
       "      <th>25%</th>\n",
       "      <td>-0.776680</td>\n",
       "      <td>-0.552726</td>\n",
       "      <td>-0.619567</td>\n",
       "      <td>-0.601832</td>\n",
       "      <td>-0.657576</td>\n",
       "      <td>-0.555407</td>\n",
       "      <td>-0.648780</td>\n",
       "      <td>-0.656277</td>\n",
       "      <td>-0.986965</td>\n",
       "      <td>-0.522125</td>\n",
       "      <td>-0.713441</td>\n",
       "      <td>-0.397109</td>\n",
       "      <td>-0.474409</td>\n",
       "      <td>-0.523735</td>\n",
       "      <td>-0.656624</td>\n",
       "      <td>-0.766512</td>\n",
       "      <td>-0.639798</td>\n",
       "      <td>-0.581918</td>\n",
       "      <td>-0.738254</td>\n",
       "      <td>-0.846551</td>\n",
       "    </tr>\n",
       "    <tr>\n",
       "      <th>50%</th>\n",
       "      <td>-0.122215</td>\n",
       "      <td>0.065946</td>\n",
       "      <td>-0.058747</td>\n",
       "      <td>-0.074514</td>\n",
       "      <td>0.045014</td>\n",
       "      <td>0.154525</td>\n",
       "      <td>-0.107089</td>\n",
       "      <td>0.125309</td>\n",
       "      <td>-0.009224</td>\n",
       "      <td>-0.042286</td>\n",
       "      <td>0.074529</td>\n",
       "      <td>0.077402</td>\n",
       "      <td>0.180081</td>\n",
       "      <td>0.025515</td>\n",
       "      <td>0.098189</td>\n",
       "      <td>0.098965</td>\n",
       "      <td>0.130909</td>\n",
       "      <td>-0.017476</td>\n",
       "      <td>0.145513</td>\n",
       "      <td>0.067945</td>\n",
       "    </tr>\n",
       "    <tr>\n",
       "      <th>75%</th>\n",
       "      <td>0.554967</td>\n",
       "      <td>0.700684</td>\n",
       "      <td>0.631118</td>\n",
       "      <td>0.699446</td>\n",
       "      <td>0.593339</td>\n",
       "      <td>0.780462</td>\n",
       "      <td>0.607118</td>\n",
       "      <td>0.660079</td>\n",
       "      <td>0.704632</td>\n",
       "      <td>0.642025</td>\n",
       "      <td>0.767151</td>\n",
       "      <td>0.709581</td>\n",
       "      <td>0.761737</td>\n",
       "      <td>0.648176</td>\n",
       "      <td>0.886054</td>\n",
       "      <td>0.728499</td>\n",
       "      <td>0.734412</td>\n",
       "      <td>0.458716</td>\n",
       "      <td>0.777096</td>\n",
       "      <td>0.696973</td>\n",
       "    </tr>\n",
       "    <tr>\n",
       "      <th>max</th>\n",
       "      <td>2.435484</td>\n",
       "      <td>2.290980</td>\n",
       "      <td>3.020603</td>\n",
       "      <td>2.168331</td>\n",
       "      <td>1.907413</td>\n",
       "      <td>2.934458</td>\n",
       "      <td>2.130421</td>\n",
       "      <td>3.019401</td>\n",
       "      <td>2.074649</td>\n",
       "      <td>2.425904</td>\n",
       "      <td>2.670014</td>\n",
       "      <td>2.175048</td>\n",
       "      <td>2.022771</td>\n",
       "      <td>3.159331</td>\n",
       "      <td>3.076485</td>\n",
       "      <td>2.431136</td>\n",
       "      <td>2.003396</td>\n",
       "      <td>1.909748</td>\n",
       "      <td>2.730227</td>\n",
       "      <td>2.093984</td>\n",
       "    </tr>\n",
       "  </tbody>\n",
       "</table>\n",
       "</div>"
      ],
      "text/plain": [
       "         Column_1    Column_2    Column_3    Column_4    Column_5    Column_6  \\\n",
       "count  100.000000  100.000000  100.000000  100.000000  100.000000  100.000000   \n",
       "mean    -0.096306    0.103394   -0.041093   -0.036073   -0.051363    0.175977   \n",
       "std      0.947031    0.950758    1.073739    1.007231    0.992275    0.995634   \n",
       "min     -2.237765   -1.694381   -3.433329   -2.851244   -2.558154   -1.788471   \n",
       "25%     -0.776680   -0.552726   -0.619567   -0.601832   -0.657576   -0.555407   \n",
       "50%     -0.122215    0.065946   -0.058747   -0.074514    0.045014    0.154525   \n",
       "75%      0.554967    0.700684    0.631118    0.699446    0.593339    0.780462   \n",
       "max      2.435484    2.290980    3.020603    2.168331    1.907413    2.934458   \n",
       "\n",
       "         Column_7    Column_8    Column_9   Column_10   Column_11   Column_12  \\\n",
       "count  100.000000  100.000000  100.000000  100.000000  100.000000  100.000000   \n",
       "mean    -0.002615    0.021736   -0.110863    0.068009    0.058208    0.118485   \n",
       "std      0.924536    1.125673    1.117951    0.937170    1.024629    0.915533   \n",
       "min     -1.965246   -3.310151   -2.953069   -2.286955   -2.027333   -2.017503   \n",
       "25%     -0.648780   -0.656277   -0.986965   -0.522125   -0.713441   -0.397109   \n",
       "50%     -0.107089    0.125309   -0.009224   -0.042286    0.074529    0.077402   \n",
       "75%      0.607118    0.660079    0.704632    0.642025    0.767151    0.709581   \n",
       "max      2.130421    3.019401    2.074649    2.425904    2.670014    2.175048   \n",
       "\n",
       "        Column_13   Column_14   Column_15   Column_16   Column_17   Column_18  \\\n",
       "count  100.000000  100.000000  100.000000  100.000000  100.000000  100.000000   \n",
       "mean     0.102668    0.040101    0.190118    0.014326    0.066005   -0.040918   \n",
       "std      0.929227    0.987411    1.113879    0.981693    0.918804    0.880285   \n",
       "min     -2.584288   -2.372827   -1.984497   -2.286663   -2.240194   -2.006596   \n",
       "25%     -0.474409   -0.523735   -0.656624   -0.766512   -0.639798   -0.581918   \n",
       "50%      0.180081    0.025515    0.098189    0.098965    0.130909   -0.017476   \n",
       "75%      0.761737    0.648176    0.886054    0.728499    0.734412    0.458716   \n",
       "max      2.022771    3.159331    3.076485    2.431136    2.003396    1.909748   \n",
       "\n",
       "        Column_19   Column_20  \n",
       "count  100.000000  100.000000  \n",
       "mean     0.036576   -0.050878  \n",
       "std      1.065829    1.030510  \n",
       "min     -2.560387   -2.830737  \n",
       "25%     -0.738254   -0.846551  \n",
       "50%      0.145513    0.067945  \n",
       "75%      0.777096    0.696973  \n",
       "max      2.730227    2.093984  "
      ]
     },
     "execution_count": 27,
     "metadata": {},
     "output_type": "execute_result"
    }
   ],
   "source": [
    "# descriptive stats\n",
    "df_raw.describe()"
   ]
  },
  {
   "cell_type": "code",
   "execution_count": 28,
   "metadata": {},
   "outputs": [],
   "source": [
    "# define a function called \"plot_boxplot\" to get a visual representation of potential outliers\n",
    "def plot_boxplot(dataframe, feature):\n",
    "    dataframe.boxplot(column = [feature])\n",
    "    plt.grid(False)\n",
    "    plt.show"
   ]
  },
  {
   "cell_type": "code",
   "execution_count": 29,
   "metadata": {},
   "outputs": [
    {
     "data": {
      "image/png": "[encoded data removed]",
      "text/plain": [
       "<Figure size 432x288 with 1 Axes>"
      ]
     },
     "metadata": {
      "needs_background": "light"
     },
     "output_type": "display_data"
    }
   ],
   "source": [
    "plot_boxplot(df_raw, \"Column_3\")\n",
    "# Indicates outliers.\n",
    "# See seperate file for boxplot of every feature"
   ]
  },
  {
   "cell_type": "code",
   "execution_count": 30,
   "metadata": {},
   "outputs": [],
   "source": [
    "# returns a list of index of outliers\n",
    "# IQR = Q3 - Q1\n",
    "\n",
    "def outliers(df, feature):\n",
    "\n",
    "    Q1 = df[feature].quantile(0.25)\n",
    "    Q3 = df[feature].quantile(0.75)\n",
    "\n",
    "    IQR = Q3 - Q1\n",
    "\n",
    "    lower = Q1 - 1.5 * IQR\n",
    "    upper = Q3 + 1.5 * IQR\n",
    "\n",
    "    outlier_list = df.index[ (df[feature] < lower) | (df[feature] > upper) ]\n",
    "\n",
    "    return outlier_list"
   ]
  },
  {
   "cell_type": "code",
   "execution_count": 31,
   "metadata": {},
   "outputs": [],
   "source": [
    "# Extract the indexes of the outliers\n",
    "index_list = []\n",
    "\n",
    "for feature in list_of_features:\n",
    "    index_list.extend(outliers(df_raw, feature))"
   ]
  },
  {
   "cell_type": "code",
   "execution_count": 32,
   "metadata": {},
   "outputs": [
    {
     "data": {
      "text/plain": [
       "[21, 36, 78, 96, 49, 53, 3, 7, 12, 42, 12, 93, 31, 61, 23, 76]"
      ]
     },
     "execution_count": 32,
     "metadata": {},
     "output_type": "execute_result"
    }
   ],
   "source": [
    "index_list"
   ]
  },
  {
   "cell_type": "code",
   "execution_count": 33,
   "metadata": {},
   "outputs": [],
   "source": [
    "# Remove outliers and return a clean dataframe\n",
    "def remove_outlier(df, index_list):\n",
    "    ls = sorted(set(index_list))\n",
    "    df = df.drop(ls)\n",
    "    return df"
   ]
  },
  {
   "cell_type": "code",
   "execution_count": 34,
   "metadata": {},
   "outputs": [
    {
     "data": {
      "text/plain": [
       "(85, 20)"
      ]
     },
     "execution_count": 34,
     "metadata": {},
     "output_type": "execute_result"
    }
   ],
   "source": [
    "X_cleaned = remove_outlier(df_raw, index_list)\n",
    "X_cleaned.shape"
   ]
  },
  {
   "cell_type": "code",
   "execution_count": 35,
   "metadata": {},
   "outputs": [
    {
     "data": {
      "text/plain": [
       "(85, 1)"
      ]
     },
     "execution_count": 35,
     "metadata": {},
     "output_type": "execute_result"
    }
   ],
   "source": [
    "y_cleaned = remove_outlier(y_df_raw, index_list)\n",
    "y_cleaned.shape"
   ]
  },
  {
   "cell_type": "code",
   "execution_count": 36,
   "metadata": {},
   "outputs": [
    {
     "name": "stdout",
     "output_type": "stream",
     "text": [
      "<class 'numpy.ndarray'>\n"
     ]
    }
   ],
   "source": [
    "# Convert pandas dataframe to numpy arrays\n",
    "X_np_cleaned = X_cleaned.to_numpy()\n",
    "y_np_cleaned = y_cleaned.to_numpy()\n",
    "print(type(X_np_cleaned))"
   ]
  },
  {
   "cell_type": "code",
   "execution_count": 37,
   "metadata": {},
   "outputs": [
    {
     "name": "stdout",
     "output_type": "stream",
     "text": [
      "[4, 11, 13, 16, 19, 11, 0, 3, 12, 23, 17, 3, 12, 13, 18, 20, 23, 22]\n"
     ]
    }
   ],
   "source": [
    "## Remove outliers validation test \n",
    "\n",
    "#Create training and validation sets\n",
    "X_train, X_validate, y_train, y_validate = train_test_split(X, y)\n",
    "\n",
    "# RANSAC\n",
    "ransac_regmod = RANSACRegressor()\n",
    "\n",
    "# Training\n",
    "ransac_regmod.fit(X_train, y_train)\n",
    "\n",
    "# Turning the numpy array of X into \n",
    "list_of_features = ['Column_1','Column_2','Column_3','Column_4','Column_5','Column_6','Column_7','Column_8','Column_9','Column_10','Column_11','Column_12','Column_13','Column_14','Column_15','Column_16','Column_17','Column_18','Column_19','Column_20']\n",
    "df_raw = pd.DataFrame(X_validate, columns = list_of_features)\n",
    "y_df_raw = pd.DataFrame(y_validate, columns = ['y'])\n",
    "\n",
    "# Find outliers\n",
    "index_list = []\n",
    "for feature in list_of_features:\n",
    "    index_list.extend(outliers(df_raw, feature))\n",
    "\n",
    "print(index_list)\n"
   ]
  },
  {
   "cell_type": "code",
   "execution_count": 38,
   "metadata": {},
   "outputs": [
    {
     "name": "stdout",
     "output_type": "stream",
     "text": [
      "The Mean Square Error is 0.011574565233153323\n"
     ]
    }
   ],
   "source": [
    "# Remove outliers\n",
    "X_validate_clean = remove_outlier(df_raw, index_list)\n",
    "y_validate_clean = remove_outlier(y_df_raw, index_list)\n",
    "\n",
    "X_validate_clean = X_validate_clean.to_numpy()\n",
    "y_validate_clean = y_validate_clean.to_numpy()\n",
    "\n",
    "# Predict for validation set\n",
    "ransac_reg_pred = ransac_regmod.predict(X_validate_clean)\n",
    "\n",
    "# MSE\n",
    "score_ransac = scores(y_validate_clean,ransac_reg_pred,'r')"
   ]
  },
  {
   "cell_type": "code",
   "execution_count": 39,
   "metadata": {},
   "outputs": [
    {
     "name": "stdout",
     "output_type": "stream",
     "text": [
      "The Mean Square Error is 5.188513345509846\n"
     ]
    }
   ],
   "source": [
    "\n",
    "#Create training and validation sets\n",
    "X_train, X_validate, y_train, y_validate = train_test_split(X_np_cleaned, y_np_cleaned.ravel())\n",
    "\n",
    "## Bayesian Ridge\n",
    "bayridge_regmod = BayesianRidge()\n",
    "\n",
    "# Training\n",
    "bayridge_regmod.fit(X_train, y_train)\n",
    "\n",
    "# Predict for test\n",
    "bayridge_reg_pred = bayridge_regmod.predict(X_validate)\n",
    "\n",
    "score_bayridge = scores(y_validate, bayridge_reg_pred,'r')"
   ]
  },
  {
   "cell_type": "code",
   "execution_count": 40,
   "metadata": {},
   "outputs": [
    {
     "name": "stdout",
     "output_type": "stream",
     "text": [
      "The Mean Square Error is 5.191877449982268\n"
     ]
    }
   ],
   "source": [
    "linear_regression_model = LinearRegression()\n",
    "\n",
    "# Training\n",
    "linear_regression_model.fit(X_train, y_train)\n",
    "\n",
    "# Predict for validation set\n",
    "linear_regression_predictions = linear_regression_model.predict(X_validate)\n",
    "\n",
    "# Result\n",
    "score_linear = scores(y_validate,linear_regression_predictions,'r')"
   ]
  },
  {
   "cell_type": "code",
   "execution_count": 41,
   "metadata": {},
   "outputs": [
    {
     "name": "stdout",
     "output_type": "stream",
     "text": [
      "The Mean Square Error is 5.191877449982268\n"
     ]
    }
   ],
   "source": [
    "# RANSAC\n",
    "ransac_regmod = RANSACRegressor()\n",
    "\n",
    "# Training\n",
    "ransac_regmod.fit(X_train, y_train)\n",
    "\n",
    "# Predict for validation set\n",
    "ransac_reg_pred = ransac_regmod.predict(X_validate)\n",
    "\n",
    "# MSE\n",
    "score_ransac = scores(y_validate,ransac_reg_pred,'r')"
   ]
  },
  {
   "cell_type": "code",
   "execution_count": 42,
   "metadata": {},
   "outputs": [
    {
     "name": "stdout",
     "output_type": "stream",
     "text": [
      "The Mean Square Error is 0.01999537775724041\n"
     ]
    }
   ],
   "source": [
    "# RANSAC with normal set\n",
    "X_train, X_validate, y_train, y_validate = train_test_split(X, y)\n",
    "\n",
    "# RANSAC\n",
    "ransac_regmod = RANSACRegressor()\n",
    "\n",
    "# Training\n",
    "ransac_regmod.fit(X_train, y_train)\n",
    "\n",
    "# Predict for validation set\n",
    "ransac_reg_pred = ransac_regmod.predict(X_validate)\n",
    "\n",
    "# MSE\n",
    "score_ransac = scores(y_validate,ransac_reg_pred,'r')"
   ]
  }
 ],
 "metadata": {
  "interpreter": {
   "hash": "1e915f0a29dc84041eaeb02b7b1a21c440e37a87b61d44d5e84a515737dc82bc"
  },
  "kernelspec": {
   "display_name": "Python 3.8.8 64-bit ('base': conda)",
   "name": "python3"
  },
  "language_info": {
   "codemirror_mode": {
    "name": "ipython",
    "version": 3
   },
   "file_extension": ".py",
   "mimetype": "text/x-python",
   "name": "python",
   "nbconvert_exporter": "python",
   "pygments_lexer": "ipython3",
   "version": "3.8.8"
  },
  "orig_nbformat": 4
 },
 "nbformat": 4,
 "nbformat_minor": 2
}
