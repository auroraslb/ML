{
 "cells": [
  {
   "cell_type": "code",
   "execution_count": 131,
   "metadata": {},
   "outputs": [],
   "source": [
    "import numpy as np\n",
    "from scipy.fftpack import dct\n",
    "from sklearn.neighbors import KNeighborsClassifier\n",
    "from sklearn.model_selection import train_test_split\n",
    "from skimage import exposure\n",
    "from sklearn.metrics import confusion_matrix, ConfusionMatrixDisplay, balanced_accuracy_score\n",
    "from skimage.transform import resize\n",
    "import math"
   ]
  },
  {
   "cell_type": "code",
   "execution_count": 132,
   "metadata": {},
   "outputs": [],
   "source": [
    "# Extract data\n",
    "X = np.load('Xtrain_Classification_Part1.npy')\n",
    "y = np.load('Ytrain_Classification_Part1.npy')\n",
    "\n",
    "X_train, X_validate, y_train, y_validate = train_test_split(X, y)\n",
    "\n",
    "X_train = X_train/255.0\n",
    "X_validate = X_validate/255.0"
   ]
  },
  {
   "cell_type": "code",
   "execution_count": 133,
   "metadata": {},
   "outputs": [],
   "source": [
    "#Histogram equalization\n",
    "\n",
    "images_train = []\n",
    "\n",
    "for image in X_train:\n",
    "    img = exposure.equalize_hist(image)\n",
    "    img = resize(img, (32,32))\n",
    "    images_train.append(img)\n",
    "\n",
    "images_validate = []\n",
    "\n",
    "for image in X_validate:\n",
    "    img = exposure.equalize_hist(image)\n",
    "    img = resize(img, (32,32))\n",
    "    images_validate.append(img)"
   ]
  },
  {
   "cell_type": "code",
   "execution_count": 134,
   "metadata": {},
   "outputs": [
    {
     "ename": "TypeError",
     "evalue": "'int' object is not iterable",
     "output_type": "error",
     "traceback": [
      "\u001b[1;31m---------------------------------------------------------------------------\u001b[0m",
      "\u001b[1;31mTypeError\u001b[0m                                 Traceback (most recent call last)",
      "\u001b[1;32m<ipython-input-134-c01b0a09454a>\u001b[0m in \u001b[0;36m<module>\u001b[1;34m\u001b[0m\n\u001b[0;32m     15\u001b[0m         \u001b[0my\u001b[0m \u001b[1;33m=\u001b[0m \u001b[1;36m0\u001b[0m\u001b[1;33m\u001b[0m\u001b[1;33m\u001b[0m\u001b[0m\n\u001b[0;32m     16\u001b[0m \u001b[1;33m\u001b[0m\u001b[0m\n\u001b[1;32m---> 17\u001b[1;33m         \u001b[1;32mfor\u001b[0m \u001b[0mi\u001b[0m \u001b[1;32min\u001b[0m \u001b[0mlen\u001b[0m\u001b[1;33m(\u001b[0m\u001b[0mdct_pixels\u001b[0m\u001b[1;33m)\u001b[0m\u001b[1;33m:\u001b[0m\u001b[1;33m\u001b[0m\u001b[1;33m\u001b[0m\u001b[0m\n\u001b[0m\u001b[0;32m     18\u001b[0m             \u001b[1;32mfor\u001b[0m \u001b[0mj\u001b[0m \u001b[1;32min\u001b[0m \u001b[0mlen\u001b[0m\u001b[1;33m(\u001b[0m\u001b[0mdct_pixels\u001b[0m\u001b[1;33m[\u001b[0m\u001b[1;36m0\u001b[0m\u001b[1;33m]\u001b[0m\u001b[1;33m)\u001b[0m\u001b[1;33m:\u001b[0m\u001b[1;33m\u001b[0m\u001b[1;33m\u001b[0m\u001b[0m\n\u001b[0;32m     19\u001b[0m                 \u001b[1;32mif\u001b[0m \u001b[0mdct_pixels\u001b[0m\u001b[1;33m[\u001b[0m\u001b[0mi\u001b[0m\u001b[1;33m]\u001b[0m\u001b[1;33m[\u001b[0m\u001b[0mj\u001b[0m\u001b[1;33m]\u001b[0m \u001b[1;33m>\u001b[0m \u001b[0mmax\u001b[0m\u001b[1;33m:\u001b[0m\u001b[1;33m\u001b[0m\u001b[1;33m\u001b[0m\u001b[0m\n",
      "\u001b[1;31mTypeError\u001b[0m: 'int' object is not iterable"
     ]
    }
   ],
   "source": [
    "#Extract features from each image\n",
    "\n",
    "features_train = []\n",
    "\n",
    "for image in images_train:\n",
    "    dct_coefficients = []\n",
    "\n",
    "    tiles = [image[x:x+8,y:y+8] for x in range(0,image.shape[0],8) for y in range(0,image.shape[1],8)]\n",
    "\n",
    "    for tile in tiles:\n",
    "        dct_pixels = dct(tile)\n",
    "\n",
    "        max = -math.inf\n",
    "        x = 0\n",
    "        y = 0\n",
    "\n",
    "        for i in len(dct_pixels):\n",
    "            for j in len(dct_pixels[0]):\n",
    "                if dct_pixels[i][j] > max:\n",
    "                    x = i\n",
    "                    y = j\n",
    "\n",
    "        dct_coefficients.append((x,y))\n",
    "        \n",
    "    features_train.append(np.asarray(dct_coefficients))\n",
    "\n",
    "features_validate = []\n",
    "\n",
    "for image in images_validate:\n",
    "    dct_coefficients = []\n",
    "\n",
    "    tiles = [image[x:x+8,y:y+8] for x in range(0,image.shape[0],8) for y in range(0,image.shape[1],8)]\n",
    "\n",
    "    for tile in tiles:\n",
    "        \"\"\"\n",
    "        dct_pixels = dct(tile)\n",
    "        dct_coefficients.append(dct_pixels[0][0])\n",
    "        \"\"\"\n",
    "        dct_pixels = dct(tile)\n",
    "\n",
    "        max = -math.inf\n",
    "        x = 0\n",
    "        y = 0\n",
    "\n",
    "        for i in len(dct_pixels):\n",
    "            for j in len(dct_pixels[0]):\n",
    "                if dct_pixels[i][j] > max:\n",
    "                    x = i\n",
    "                    y = j\n",
    "\n",
    "        dct_coefficients.append((x,y))\n",
    "\n",
    "    features_validate.append(np.asarray(dct_coefficients))\n",
    "\n"
   ]
  },
  {
   "cell_type": "code",
   "execution_count": null,
   "metadata": {},
   "outputs": [
    {
     "data": {
      "text/plain": [
       "KNeighborsClassifier(n_neighbors=59)"
      ]
     },
     "execution_count": 129,
     "metadata": {},
     "output_type": "execute_result"
    }
   ],
   "source": [
    "model = KNeighborsClassifier(n_neighbors=59)\n",
    "model.fit(features_train, y_train)"
   ]
  },
  {
   "cell_type": "code",
   "execution_count": null,
   "metadata": {},
   "outputs": [
    {
     "name": "stdout",
     "output_type": "stream",
     "text": [
      "BACC = 63.00098928900575\n"
     ]
    },
    {
     "data": {
      "image/png": "[encoded data removed]",
      "text/plain": [
       "<Figure size 432x288 with 2 Axes>"
      ]
     },
     "metadata": {
      "needs_background": "light"
     },
     "output_type": "display_data"
    }
   ],
   "source": [
    "y_pred = model.predict(features_validate)\n",
    "bacc = balanced_accuracy_score(y_pred, y_validate)\n",
    "\n",
    "cm = confusion_matrix(y_validate, y_pred)\n",
    "disp = ConfusionMatrixDisplay(confusion_matrix=cm)\n",
    "\n",
    "disp.plot()\n",
    "print(f\"BACC = {bacc * 100}\")"
   ]
  }
 ],
 "metadata": {
  "interpreter": {
   "hash": "1e915f0a29dc84041eaeb02b7b1a21c440e37a87b61d44d5e84a515737dc82bc"
  },
  "kernelspec": {
   "display_name": "Python 3.8.8 64-bit ('base': conda)",
   "name": "python3"
  },
  "language_info": {
   "codemirror_mode": {
    "name": "ipython",
    "version": 3
   },
   "file_extension": ".py",
   "mimetype": "text/x-python",
   "name": "python",
   "nbconvert_exporter": "python",
   "pygments_lexer": "ipython3",
   "version": "3.8.8"
  },
  "orig_nbformat": 4
 },
 "nbformat": 4,
 "nbformat_minor": 2
}
