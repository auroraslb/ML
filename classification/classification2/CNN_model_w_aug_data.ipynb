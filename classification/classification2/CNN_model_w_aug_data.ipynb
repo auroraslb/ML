{
 "cells": [
  {
   "cell_type": "code",
   "execution_count": 21,
   "metadata": {},
   "outputs": [],
   "source": [
    "import numpy as np\n",
    "import matplotlib.pyplot as plt\n",
    "import tensorflow as tf\n",
    "from tensorflow import keras\n",
    "from sklearn.model_selection import train_test_split\n",
    "from sklearn.metrics import balanced_accuracy_score, ConfusionMatrixDisplay, confusion_matrix\n",
    "from tensorflow.keras.layers import Conv2D, MaxPooling2D, Dropout, Flatten, Dense\n",
    "from tensorflow.keras.layers.experimental.preprocessing import RandomFlip, RandomRotation, RandomZoom, Resizing, Rescaling\n",
    "from sklearn.cluster import KMeans\n",
    "\n",
    "from tensorflow.keras.applications.inception_v3 import InceptionV3\n",
    "from tensorflow.keras.applications.inception_v3 import preprocess_input\n",
    "from tensorflow.keras.preprocessing import image\n",
    "from tensorflow.keras.preprocessing.image import img_to_array\n",
    "from sklearn.cluster import KMeans\n",
    "import pandas as pd\n",
    "import numpy as np\n",
    "from tqdm import tqdm\n",
    "import os\n",
    "import shutil\n",
    "\n",
    "import imageio\n",
    "\n",
    "from tensorflow.keras.preprocessing.image import ImageDataGenerator\n"
   ]
  },
  {
   "cell_type": "code",
   "execution_count": 22,
   "metadata": {},
   "outputs": [],
   "source": [
    "# Extract data\n",
    "X = np.load('Xtrain_Classification_Part2.npy')\n",
    "y = np.load('Ytrain_Classification_Part2.npy')\n",
    "\n",
    "X_train, X_validate, train_labels, test_labels = train_test_split(X,y)\n"
   ]
  },
  {
   "cell_type": "code",
   "execution_count": 23,
   "metadata": {},
   "outputs": [],
   "source": [
    "class_names = ['caucasian', 'african', 'asian', 'indian']\n",
    "\n",
    "# Reshape to 50x50 pixel images\n",
    "pixels = 50\n",
    "train_images = []\n",
    "test_images = []\n",
    "\n",
    "for image in X_train:\n",
    "    train_images.append(image.reshape(pixels, pixels))\n",
    "\n",
    "for image in X_validate:\n",
    "    test_images.append(image.reshape(pixels, pixels))\n",
    "\n",
    "train_images = np.array(train_images)\n",
    "test_images = np.array(test_images)"
   ]
  },
  {
   "cell_type": "code",
   "execution_count": 24,
   "metadata": {},
   "outputs": [],
   "source": [
    "# Normalizing\n",
    "train_images = train_images / 255.0\n",
    "test_images = test_images / 255.0\n",
    "\n",
    "X_train = X_train / 255.0\n",
    "X_validate = X_validate / 255.0"
   ]
  },
  {
   "cell_type": "code",
   "execution_count": 25,
   "metadata": {},
   "outputs": [],
   "source": [
    "caucasian_count = 0\n",
    "african_count = 0\n",
    "asian_count = 0\n",
    "indian_count = 0\n",
    "\n",
    "caucasian_train = []\n",
    "african_train = []\n",
    "asian_train = []\n",
    "indian_train = []\n",
    "\n",
    "for index, label in enumerate(train_labels):\n",
    "    if label == 0:\n",
    "        caucasian_count += 1\n",
    "        caucasian_train.append(train_images[index])\n",
    "    elif label == 1:\n",
    "        african_count += 1\n",
    "        african_train.append(train_images[index])\n",
    "    elif label == 2:\n",
    "        asian_count += 1\n",
    "        asian_train.append(train_images[index])\n",
    "    elif label == 3:\n",
    "        indian_count += 1\n",
    "        indian_train.append(train_images[index])"
   ]
  },
  {
   "cell_type": "code",
   "execution_count": 26,
   "metadata": {},
   "outputs": [],
   "source": [
    "# Augment african data by adding mirrored images\n",
    "\n",
    "african_train = np.array(african_train)\n",
    "african_augmented = []\n",
    "\n",
    "african_flipped = african_train[:,:,::-1]\n",
    "\n",
    "for index, image in enumerate(african_flipped):\n",
    "    african_augmented.append(african_train[index])\n",
    "    african_augmented.append(image)\n",
    "\n",
    "african_augmented = np.array(african_augmented)\n"
   ]
  },
  {
   "cell_type": "code",
   "execution_count": 27,
   "metadata": {},
   "outputs": [],
   "source": [
    "# Augment asian data by adding mirrored images\n",
    "\n",
    "asian_train = np.array(asian_train)\n",
    "asian_augmented = []\n",
    "\n",
    "asian_flipped = asian_train[:,:,::-1]\n",
    "\n",
    "for index, image in enumerate(asian_flipped):\n",
    "    asian_augmented.append(asian_train[index])\n",
    "    asian_augmented.append(image)\n",
    "\n",
    "asian_augmented = np.array(asian_augmented)"
   ]
  },
  {
   "cell_type": "code",
   "execution_count": 28,
   "metadata": {},
   "outputs": [],
   "source": [
    "# Augment indian data by adding mirrored images\n",
    "\n",
    "indian_train = np.array(indian_train)\n",
    "indian_augmented = []\n",
    "\n",
    "indian_flipped = indian_train[:,:,::-1]\n",
    "\n",
    "for index, image in enumerate(indian_flipped):\n",
    "    indian_augmented.append(indian_train[index])\n",
    "    indian_augmented.append(image)\n",
    "\n",
    "indian_augmented = np.array(indian_augmented)"
   ]
  },
  {
   "cell_type": "code",
   "execution_count": 29,
   "metadata": {},
   "outputs": [
    {
     "name": "stdout",
     "output_type": "stream",
     "text": [
      "(50, 50)\n",
      "(7673, 50, 50)\n"
     ]
    }
   ],
   "source": [
    "# Update training set\n",
    "#pixels = 50\n",
    "\n",
    "new_train_images = []\n",
    "new_train_labels = []\n",
    "\n",
    "count_african = 0\n",
    "count_asian = 0\n",
    "count_indian = 0\n",
    "\n",
    "for index, label in enumerate(train_labels):\n",
    "    if label == 0:\n",
    "        new_train_images.append(train_images[index].reshape(pixels,pixels))\n",
    "        new_train_labels.append(label)\n",
    "    elif label == 1:\n",
    "        new_train_images.append(african_augmented[count_african].reshape(pixels,pixels))\n",
    "        new_train_labels.append(label)\n",
    "        new_train_images.append(african_augmented[count_african + african_count].reshape(pixels,pixels))\n",
    "        new_train_labels.append(label)\n",
    "        count_african += 1\n",
    "    elif label == 2:\n",
    "        new_train_images.append(asian_augmented[count_asian].reshape(pixels,pixels))\n",
    "        new_train_labels.append(label)\n",
    "        new_train_images.append(asian_augmented[count_asian + asian_count].reshape(pixels,pixels))\n",
    "        new_train_labels.append(label)\n",
    "        count_asian += 1\n",
    "    elif label == 3:\n",
    "        new_train_images.append(indian_augmented[count_indian].reshape(pixels,pixels))\n",
    "        new_train_labels.append(label)\n",
    "        new_train_images.append(indian_augmented[count_indian + indian_count].reshape(pixels,pixels))\n",
    "        new_train_labels.append(label)\n",
    "        count_indian += 1\n",
    "\n",
    "\n",
    "print(new_train_images[0].shape)\n",
    "\n",
    "new_train_images = np.array(new_train_images)\n",
    "print(new_train_images.shape)\n"
   ]
  },
  {
   "cell_type": "code",
   "execution_count": 30,
   "metadata": {},
   "outputs": [],
   "source": [
    "# Building CNN Model\n",
    "model = keras.Sequential()\n",
    "#model.add(data_augmentation)\n",
    "model.add(Conv2D(32, (3, 3), padding='same', activation='relu', input_shape=(50, 50, 1)))\n",
    "model.add(MaxPooling2D((2, 2)))\n",
    "model.add(Dropout(0.2))\n",
    "model.add(Conv2D(64, (3, 3), padding='same', activation='relu'))\n",
    "model.add(MaxPooling2D((2, 2)))\n",
    "model.add(Dropout(0.2))\n",
    "model.add(Conv2D(64, (3, 3), padding='same', activation='relu'))\n",
    "model.add(Flatten())\n",
    "model.add(Dense(64, activation='relu'))\n",
    "model.add(Dropout(0.2))\n",
    "model.add(Dense(4, activation=\"softmax\"))"
   ]
  },
  {
   "cell_type": "code",
   "execution_count": 31,
   "metadata": {},
   "outputs": [],
   "source": [
    "model.compile(  optimizer='adam',\n",
    "                loss = 'sparse_categorical_crossentropy', #'binary_crossentropy',\n",
    "                metrics = ['accuracy'])"
   ]
  },
  {
   "cell_type": "code",
   "execution_count": 32,
   "metadata": {},
   "outputs": [
    {
     "name": "stdout",
     "output_type": "stream",
     "text": [
      "Epoch 1/10\n",
      "240/240 [==============================] - 39s 164ms/step - loss: 1.0515 - accuracy: 0.5467 - val_loss: 0.8485 - val_accuracy: 0.6363\n",
      "Epoch 2/10\n",
      "240/240 [==============================] - 35s 145ms/step - loss: 0.7380 - accuracy: 0.7167 - val_loss: 0.6928 - val_accuracy: 0.7514\n",
      "Epoch 3/10\n",
      "240/240 [==============================] - 36s 149ms/step - loss: 0.6386 - accuracy: 0.7625 - val_loss: 0.5829 - val_accuracy: 0.7921\n",
      "Epoch 4/10\n",
      "240/240 [==============================] - 35s 147ms/step - loss: 0.5479 - accuracy: 0.8001 - val_loss: 0.5141 - val_accuracy: 0.8122\n",
      "Epoch 5/10\n",
      "240/240 [==============================] - 35s 145ms/step - loss: 0.4979 - accuracy: 0.8169 - val_loss: 0.5601 - val_accuracy: 0.7850\n",
      "Epoch 6/10\n",
      "240/240 [==============================] - 35s 147ms/step - loss: 0.4601 - accuracy: 0.8331 - val_loss: 0.5338 - val_accuracy: 0.8094\n",
      "Epoch 7/10\n",
      "240/240 [==============================] - 35s 146ms/step - loss: 0.4144 - accuracy: 0.8457 - val_loss: 0.4982 - val_accuracy: 0.8360\n",
      "Epoch 8/10\n",
      "240/240 [==============================] - 35s 147ms/step - loss: 0.3710 - accuracy: 0.8592 - val_loss: 0.4695 - val_accuracy: 0.8382\n",
      "Epoch 9/10\n",
      "240/240 [==============================] - 36s 151ms/step - loss: 0.3418 - accuracy: 0.8731 - val_loss: 0.4723 - val_accuracy: 0.8377\n",
      "Epoch 10/10\n",
      "240/240 [==============================] - 37s 153ms/step - loss: 0.3094 - accuracy: 0.8847 - val_loss: 0.4811 - val_accuracy: 0.8398\n"
     ]
    }
   ],
   "source": [
    "# Train model\n",
    "#train_images = np.reshape(train_images, (len(train_images), 50, 50, 1))\n",
    "test_images = np.reshape(test_images, (len(test_images),50, 50, 1))\n",
    "test_images = np.asarray(test_images)\n",
    "\n",
    "new_train_images = np.reshape(new_train_images, (len(new_train_images), 50, 50, 1))\n",
    "new_train_images = np.asarray(new_train_images)\n",
    "\n",
    "new_train_labels = np.asarray(new_train_labels)\n",
    "#print(type(new_train_images))\n",
    "#print(type(train_images))\n",
    "history = model.fit(new_train_images, new_train_labels, validation_data = (test_images, test_labels), epochs = 10)"
   ]
  },
  {
   "cell_type": "code",
   "execution_count": 33,
   "metadata": {},
   "outputs": [
    {
     "name": "stdout",
     "output_type": "stream",
     "text": [
      "3375\n",
      "494\n",
      "2012\n",
      "1792\n"
     ]
    }
   ],
   "source": [
    "new_train_caucasian_count = 0\n",
    "new_train_african_count = 0\n",
    "new_train_asian_count = 0\n",
    "new_train_indian_count = 0\n",
    "\n",
    "for index, label in enumerate(new_train_labels):\n",
    "    if label == 0:\n",
    "        new_train_caucasian_count += 1\n",
    "    elif label == 1:\n",
    "        new_train_african_count += 1\n",
    "    elif label == 2:\n",
    "        new_train_asian_count += 1\n",
    "    elif label == 3:\n",
    "        new_train_indian_count += 1\n",
    "\n",
    "print(new_train_caucasian_count)\n",
    "print(new_train_african_count)\n",
    "print(new_train_asian_count)\n",
    "print(new_train_indian_count)"
   ]
  },
  {
   "cell_type": "code",
   "execution_count": 34,
   "metadata": {},
   "outputs": [
    {
     "name": "stdout",
     "output_type": "stream",
     "text": [
      "Model: \"sequential_1\"\n",
      "_________________________________________________________________\n",
      "Layer (type)                 Output Shape              Param #   \n",
      "=================================================================\n",
      "conv2d_3 (Conv2D)            (None, 50, 50, 32)        320       \n",
      "_________________________________________________________________\n",
      "max_pooling2d_2 (MaxPooling2 (None, 25, 25, 32)        0         \n",
      "_________________________________________________________________\n",
      "dropout_3 (Dropout)          (None, 25, 25, 32)        0         \n",
      "_________________________________________________________________\n",
      "conv2d_4 (Conv2D)            (None, 25, 25, 64)        18496     \n",
      "_________________________________________________________________\n",
      "max_pooling2d_3 (MaxPooling2 (None, 12, 12, 64)        0         \n",
      "_________________________________________________________________\n",
      "dropout_4 (Dropout)          (None, 12, 12, 64)        0         \n",
      "_________________________________________________________________\n",
      "conv2d_5 (Conv2D)            (None, 12, 12, 64)        36928     \n",
      "_________________________________________________________________\n",
      "flatten_1 (Flatten)          (None, 9216)              0         \n",
      "_________________________________________________________________\n",
      "dense_2 (Dense)              (None, 64)                589888    \n",
      "_________________________________________________________________\n",
      "dropout_5 (Dropout)          (None, 64)                0         \n",
      "_________________________________________________________________\n",
      "dense_3 (Dense)              (None, 4)                 260       \n",
      "=================================================================\n",
      "Total params: 645,892\n",
      "Trainable params: 645,892\n",
      "Non-trainable params: 0\n",
      "_________________________________________________________________\n"
     ]
    }
   ],
   "source": [
    "model.summary()"
   ]
  },
  {
   "cell_type": "code",
   "execution_count": 35,
   "metadata": {},
   "outputs": [
    {
     "name": "stdout",
     "output_type": "stream",
     "text": [
      "58/58 [==============================] - 2s 32ms/step - loss: 0.4811 - accuracy: 0.8398\n",
      "Test accuracy: 0.839847981929779\n"
     ]
    }
   ],
   "source": [
    "# Accuracy\n",
    "test_images = test_images.reshape(-1, 50, 50, 1)\n",
    "test_loss, test_acc = model.evaluate(test_images, test_labels)\n",
    "print('Test accuracy:', test_acc)"
   ]
  },
  {
   "cell_type": "code",
   "execution_count": 36,
   "metadata": {},
   "outputs": [
    {
     "data": {
      "text/plain": [
       "array([[9.9785501e-01, 7.8264292e-04, 1.5360728e-04, 1.2088326e-03],\n",
       "       [7.9891101e-02, 2.0281336e-01, 6.9234982e-02, 6.4806056e-01],\n",
       "       [2.8838899e-06, 1.0332368e-12, 9.9999714e-01, 5.2484631e-11],\n",
       "       ...,\n",
       "       [2.5875455e-01, 3.6992512e-03, 7.3352695e-01, 4.0193344e-03],\n",
       "       [9.9302691e-01, 4.4968962e-03, 1.0070485e-03, 1.4691291e-03],\n",
       "       [1.0595447e-01, 2.4596106e-02, 6.1924302e-04, 8.6883014e-01]],\n",
       "      dtype=float32)"
      ]
     },
     "execution_count": 36,
     "metadata": {},
     "output_type": "execute_result"
    }
   ],
   "source": [
    "predictions = model.predict(test_images) #test_images\n",
    "predictions"
   ]
  },
  {
   "cell_type": "code",
   "execution_count": 37,
   "metadata": {},
   "outputs": [
    {
     "name": "stdout",
     "output_type": "stream",
     "text": [
      "[0 3 2 ... 2 0 3]\n"
     ]
    }
   ],
   "source": [
    "# Turn predictions into labels\n",
    "y_predicted = []\n",
    "\n",
    "for i in predictions:\n",
    "    y_predicted.append(np.argmax(i))\n",
    "\n",
    "y_predicted = np.array(y_predicted)\n",
    "print(y_predicted)"
   ]
  },
  {
   "cell_type": "code",
   "execution_count": 38,
   "metadata": {},
   "outputs": [
    {
     "name": "stdout",
     "output_type": "stream",
     "text": [
      "BACC = 78.7692831875381\n"
     ]
    },
    {
     "data": {
      "image/png": "[encoded data removed]",
      "text/plain": [
       "<Figure size 432x288 with 2 Axes>"
      ]
     },
     "metadata": {
      "needs_background": "light"
     },
     "output_type": "display_data"
    }
   ],
   "source": [
    "bacc = balanced_accuracy_score(test_labels, y_predicted)\n",
    "\n",
    "cm = confusion_matrix(test_labels, y_predicted)\n",
    "disp = ConfusionMatrixDisplay(confusion_matrix=cm)\n",
    "\n",
    "disp.plot()\n",
    "print(f\"BACC = {bacc * 100}\")"
   ]
  },
  {
   "cell_type": "code",
   "execution_count": 39,
   "metadata": {},
   "outputs": [],
   "source": [
    "def plot_image(i, predictions_array, true_label, img):\n",
    "    predictions_array, true_label, img = predictions_array[i], true_label[i], img[i]\n",
    "    plt.grid(False)\n",
    "    plt.xticks([])\n",
    "    plt.yticks([])\n",
    "    plt.imshow(img, cmap=plt.cm.binary)\n",
    "\n",
    "    predicted_label = np.argmax(predictions_array)\n",
    "    if predicted_label == true_label:\n",
    "        color = 'blue'\n",
    "    else:\n",
    "        color = 'red'\n",
    "\n",
    "    plt.xlabel(\"{} {:2.0f}% ({})\".format(class_names[predicted_label],\n",
    "                                            100*np.max(predictions_array),\n",
    "                                            class_names[true_label]),\n",
    "                                            color = color)\n",
    "\n",
    "def plot_value_array(i, predictions_array, true_label):\n",
    "    predictions_array, true_label = predictions_array[i], true_label[i]\n",
    "    plt.grid(False)\n",
    "    plt.xticks([])\n",
    "    plt.yticks([])\n",
    "    thisplot = plt.bar(range(10), predictions_array, color = '#777777')\n",
    "    plt.ylim([0, 1])\n",
    "    predicted_label = np.argmax(predictions_array)\n",
    "\n",
    "    thisplot[predicted_label].set_color('red')\n",
    "    thisplot[true_label].set_color('green')"
   ]
  },
  {
   "cell_type": "code",
   "execution_count": 40,
   "metadata": {},
   "outputs": [
    {
     "data": {
      "image/png": "[encoded data removed]",
      "text/plain": [
       "<Figure size 576x576 with 2 Axes>"
      ]
     },
     "metadata": {
      "needs_background": "light"
     },
     "output_type": "display_data"
    }
   ],
   "source": [
    "acc = history.history['accuracy']\n",
    "val_acc = history.history['val_accuracy']\n",
    "\n",
    "loss = history.history['loss']\n",
    "val_loss = history.history['val_loss']\n",
    "\n",
    "epochs_range = range(10)\n",
    "\n",
    "plt.figure(figsize=(8, 8))\n",
    "plt.subplot(1, 2, 1)\n",
    "plt.plot(epochs_range, acc, label='Training Accuracy')\n",
    "plt.plot(epochs_range, val_acc, label='Validation Accuracy')\n",
    "plt.legend(loc='lower right')\n",
    "plt.title('Training and Validation Accuracy')\n",
    "\n",
    "plt.subplot(1, 2, 2)\n",
    "plt.plot(epochs_range, loss, label='Training Loss')\n",
    "plt.plot(epochs_range, val_loss, label='Validation Loss')\n",
    "plt.legend(loc='upper right')\n",
    "plt.title('Training and Validation Loss')\n",
    "plt.show()\n",
    "\n"
   ]
  }
 ],
 "metadata": {
  "interpreter": {
   "hash": "1e915f0a29dc84041eaeb02b7b1a21c440e37a87b61d44d5e84a515737dc82bc"
  },
  "kernelspec": {
   "display_name": "Python 3.8.8 64-bit ('base': conda)",
   "name": "python3"
  },
  "language_info": {
   "codemirror_mode": {
    "name": "ipython",
    "version": 3
   },
   "file_extension": ".py",
   "mimetype": "text/x-python",
   "name": "python",
   "nbconvert_exporter": "python",
   "pygments_lexer": "ipython3",
   "version": "3.8.8"
  },
  "orig_nbformat": 4
 },
 "nbformat": 4,
 "nbformat_minor": 2
}
