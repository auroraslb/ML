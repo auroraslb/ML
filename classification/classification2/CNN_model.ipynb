{
 "cells": [
  {
   "cell_type": "code",
   "execution_count": 1,
   "metadata": {},
   "outputs": [],
   "source": [
    "import numpy as np\n",
    "import matplotlib.pyplot as plt\n",
    "import tensorflow as tf\n",
    "from tensorflow import keras\n",
    "from sklearn.model_selection import train_test_split\n",
    "from sklearn.metrics import balanced_accuracy_score, ConfusionMatrixDisplay, confusion_matrix\n",
    "from tensorflow.keras.layers import Conv2D, MaxPooling2D, Dropout, Flatten, Dense\n",
    "from tensorflow.keras.layers.experimental.preprocessing import RandomFlip, RandomRotation, RandomZoom, Resizing, Rescaling"
   ]
  },
  {
   "cell_type": "code",
   "execution_count": 2,
   "metadata": {},
   "outputs": [],
   "source": [
    "# Extract data\n",
    "X = np.load('Xtrain_Classification_Part2.npy')\n",
    "y = np.load('Ytrain_Classification_Part2.npy')\n",
    "\n",
    "X_train, X_validate, train_labels, test_labels = train_test_split(X,y)\n"
   ]
  },
  {
   "cell_type": "code",
   "execution_count": 3,
   "metadata": {},
   "outputs": [],
   "source": [
    "class_names = ['caucasian', 'african', 'asian', 'indian']\n",
    "\n",
    "# Reshape to 50x50 pixel images\n",
    "pixels = 50\n",
    "train_images = []\n",
    "test_images = []\n",
    "\n",
    "for image in X_train:\n",
    "    train_images.append(image.reshape(pixels, pixels))\n",
    "\n",
    "for image in X_validate:\n",
    "    test_images.append(image.reshape(pixels, pixels))\n",
    "\n",
    "train_images = np.array(train_images)\n",
    "test_images = np.array(test_images)"
   ]
  },
  {
   "cell_type": "code",
   "execution_count": 4,
   "metadata": {},
   "outputs": [],
   "source": [
    "# Normalizing\n",
    "train_images = train_images / 255.0\n",
    "test_images = test_images / 255.0\n",
    "\n",
    "X_train = X_train / 255.0\n",
    "X_validate = X_validate / 255.0"
   ]
  },
  {
   "cell_type": "code",
   "execution_count": 5,
   "metadata": {},
   "outputs": [],
   "source": [
    "# Building CNN Model\n",
    "model = keras.Sequential()\n",
    "model.add(Conv2D(32, (3, 3), padding='same', activation='relu', input_shape=(50, 50, 1)))\n",
    "model.add(MaxPooling2D((2, 2)))\n",
    "model.add(Dropout(0.2))\n",
    "model.add(Conv2D(64, (3, 3), padding='same', activation='relu'))\n",
    "model.add(MaxPooling2D((2, 2)))\n",
    "model.add(Dropout(0.2))\n",
    "model.add(Conv2D(64, (3, 3), padding='same', activation='relu'))\n",
    "model.add(Flatten())\n",
    "model.add(Dense(64, activation='relu'))\n",
    "model.add(Dropout(0.2))\n",
    "model.add(Dense(4, activation=\"softmax\"))"
   ]
  },
  {
   "cell_type": "code",
   "execution_count": 6,
   "metadata": {},
   "outputs": [],
   "source": [
    "model.compile(  optimizer='adam',\n",
    "                loss = 'sparse_categorical_crossentropy', #'binary_crossentropy',\n",
    "                metrics = ['accuracy'])"
   ]
  },
  {
   "cell_type": "code",
   "execution_count": 7,
   "metadata": {},
   "outputs": [
    {
     "name": "stdout",
     "output_type": "stream",
     "text": [
      "Epoch 1/10\n",
      "173/173 [==============================] - 21s 124ms/step - loss: 0.9770 - accuracy: 0.6207 - val_loss: 0.8694 - val_accuracy: 0.6412\n",
      "Epoch 2/10\n",
      "173/173 [==============================] - 21s 119ms/step - loss: 0.7622 - accuracy: 0.6951 - val_loss: 0.6959 - val_accuracy: 0.7166\n",
      "Epoch 3/10\n",
      "173/173 [==============================] - 20s 116ms/step - loss: 0.6603 - accuracy: 0.7525 - val_loss: 0.6291 - val_accuracy: 0.7671\n",
      "Epoch 4/10\n",
      "173/173 [==============================] - 20s 117ms/step - loss: 0.6036 - accuracy: 0.7750 - val_loss: 0.5693 - val_accuracy: 0.7845\n",
      "Epoch 5/10\n",
      "173/173 [==============================] - 20s 115ms/step - loss: 0.5537 - accuracy: 0.7965 - val_loss: 0.5239 - val_accuracy: 0.7986\n",
      "Epoch 6/10\n",
      "173/173 [==============================] - 20s 113ms/step - loss: 0.4938 - accuracy: 0.8233 - val_loss: 0.5013 - val_accuracy: 0.8100\n",
      "Epoch 7/10\n",
      "173/173 [==============================] - 20s 114ms/step - loss: 0.4572 - accuracy: 0.8306 - val_loss: 0.4845 - val_accuracy: 0.8176\n",
      "Epoch 8/10\n",
      "173/173 [==============================] - 19s 109ms/step - loss: 0.4395 - accuracy: 0.8403 - val_loss: 0.4722 - val_accuracy: 0.8246\n",
      "Epoch 9/10\n",
      "173/173 [==============================] - 19s 110ms/step - loss: 0.4076 - accuracy: 0.8507 - val_loss: 0.4700 - val_accuracy: 0.8252\n",
      "Epoch 10/10\n",
      "173/173 [==============================] - 20s 115ms/step - loss: 0.3652 - accuracy: 0.8697 - val_loss: 0.4423 - val_accuracy: 0.8426\n"
     ]
    }
   ],
   "source": [
    "# Train model\n",
    "train_images = np.reshape(train_images, (len(train_images), 50, 50, 1))\n",
    "test_images = np.reshape(test_images, (len(test_images),50, 50, 1))\n",
    "\n",
    "history = model.fit(train_images, train_labels, validation_data = (test_images, test_labels), epochs = 10)"
   ]
  },
  {
   "cell_type": "code",
   "execution_count": 8,
   "metadata": {},
   "outputs": [
    {
     "name": "stdout",
     "output_type": "stream",
     "text": [
      "Model: \"sequential\"\n",
      "_________________________________________________________________\n",
      "Layer (type)                 Output Shape              Param #   \n",
      "=================================================================\n",
      "conv2d (Conv2D)              (None, 50, 50, 32)        320       \n",
      "_________________________________________________________________\n",
      "max_pooling2d (MaxPooling2D) (None, 25, 25, 32)        0         \n",
      "_________________________________________________________________\n",
      "dropout (Dropout)            (None, 25, 25, 32)        0         \n",
      "_________________________________________________________________\n",
      "conv2d_1 (Conv2D)            (None, 25, 25, 64)        18496     \n",
      "_________________________________________________________________\n",
      "max_pooling2d_1 (MaxPooling2 (None, 12, 12, 64)        0         \n",
      "_________________________________________________________________\n",
      "dropout_1 (Dropout)          (None, 12, 12, 64)        0         \n",
      "_________________________________________________________________\n",
      "conv2d_2 (Conv2D)            (None, 12, 12, 64)        36928     \n",
      "_________________________________________________________________\n",
      "flatten (Flatten)            (None, 9216)              0         \n",
      "_________________________________________________________________\n",
      "dense (Dense)                (None, 64)                589888    \n",
      "_________________________________________________________________\n",
      "dropout_2 (Dropout)          (None, 64)                0         \n",
      "_________________________________________________________________\n",
      "dense_1 (Dense)              (None, 4)                 260       \n",
      "=================================================================\n",
      "Total params: 645,892\n",
      "Trainable params: 645,892\n",
      "Non-trainable params: 0\n",
      "_________________________________________________________________\n"
     ]
    }
   ],
   "source": [
    "model.summary()"
   ]
  },
  {
   "cell_type": "code",
   "execution_count": 9,
   "metadata": {},
   "outputs": [
    {
     "name": "stdout",
     "output_type": "stream",
     "text": [
      "58/58 [==============================] - 1s 20ms/step - loss: 0.4423 - accuracy: 0.8426\n",
      "Test accuracy: 0.8425624370574951\n"
     ]
    }
   ],
   "source": [
    "# Accuracy\n",
    "test_images = test_images.reshape(-1, 50, 50, 1)\n",
    "test_loss, test_acc = model.evaluate(test_images, test_labels)\n",
    "print('Test accuracy:', test_acc)"
   ]
  },
  {
   "cell_type": "code",
   "execution_count": 10,
   "metadata": {},
   "outputs": [
    {
     "data": {
      "text/plain": [
       "array([[9.73597243e-02, 9.30679613e-04, 1.07684378e-02, 8.90941143e-01],\n",
       "       [1.11955635e-01, 3.20091248e-02, 2.50298589e-01, 6.05736613e-01],\n",
       "       [4.23754126e-01, 4.00224963e-05, 5.76172888e-01, 3.28777132e-05],\n",
       "       ...,\n",
       "       [9.95664179e-01, 1.14381372e-03, 1.22710958e-03, 1.96477631e-03],\n",
       "       [7.94880092e-01, 1.01804920e-02, 1.38331309e-01, 5.66080622e-02],\n",
       "       [4.45199847e-01, 1.75968651e-02, 3.58689070e-01, 1.78514212e-01]],\n",
       "      dtype=float32)"
      ]
     },
     "execution_count": 10,
     "metadata": {},
     "output_type": "execute_result"
    }
   ],
   "source": [
    "predictions = model.predict(test_images) #test_images\n",
    "predictions"
   ]
  },
  {
   "cell_type": "code",
   "execution_count": 11,
   "metadata": {},
   "outputs": [
    {
     "name": "stdout",
     "output_type": "stream",
     "text": [
      "[3 3 2 ... 0 0 0]\n"
     ]
    }
   ],
   "source": [
    "# Turn predictions into labels\n",
    "y_predicted = []\n",
    "\n",
    "for i in predictions:\n",
    "    y_predicted.append(np.argmax(i))\n",
    "\n",
    "y_predicted = np.array(y_predicted)\n",
    "print(y_predicted)"
   ]
  },
  {
   "cell_type": "code",
   "execution_count": 12,
   "metadata": {},
   "outputs": [
    {
     "name": "stdout",
     "output_type": "stream",
     "text": [
      "BACC = 73.96884614916641\n"
     ]
    },
    {
     "data": {
      "image/png": "[encoded data removed]",
      "text/plain": [
       "<Figure size 432x288 with 2 Axes>"
      ]
     },
     "metadata": {
      "needs_background": "light"
     },
     "output_type": "display_data"
    }
   ],
   "source": [
    "bacc = balanced_accuracy_score(test_labels, y_predicted)\n",
    "\n",
    "cm = confusion_matrix(test_labels, y_predicted)\n",
    "disp = ConfusionMatrixDisplay(confusion_matrix=cm)\n",
    "\n",
    "disp.plot()\n",
    "print(f\"BACC = {bacc * 100}\")"
   ]
  },
  {
   "cell_type": "code",
   "execution_count": 13,
   "metadata": {},
   "outputs": [],
   "source": [
    "def plot_image(i, predictions_array, true_label, img):\n",
    "    predictions_array, true_label, img = predictions_array[i], true_label[i], img[i]\n",
    "    plt.grid(False)\n",
    "    plt.xticks([])\n",
    "    plt.yticks([])\n",
    "    plt.imshow(img, cmap=plt.cm.binary)\n",
    "\n",
    "    predicted_label = np.argmax(predictions_array)\n",
    "    if predicted_label == true_label:\n",
    "        color = 'blue'\n",
    "    else:\n",
    "        color = 'red'\n",
    "\n",
    "    plt.xlabel(\"{} {:2.0f}% ({})\".format(class_names[predicted_label],\n",
    "                                            100*np.max(predictions_array),\n",
    "                                            class_names[true_label]),\n",
    "                                            color = color)\n",
    "\n",
    "def plot_value_array(i, predictions_array, true_label):\n",
    "    predictions_array, true_label = predictions_array[i], true_label[i]\n",
    "    plt.grid(False)\n",
    "    plt.xticks([])\n",
    "    plt.yticks([])\n",
    "    thisplot = plt.bar(range(10), predictions_array, color = '#777777')\n",
    "    plt.ylim([0, 1])\n",
    "    predicted_label = np.argmax(predictions_array)\n",
    "\n",
    "    thisplot[predicted_label].set_color('red')\n",
    "    thisplot[true_label].set_color('green')"
   ]
  },
  {
   "cell_type": "code",
   "execution_count": 14,
   "metadata": {},
   "outputs": [
    {
     "data": {
      "image/png": "[encoded data removed]",
      "text/plain": [
       "<Figure size 576x576 with 2 Axes>"
      ]
     },
     "metadata": {
      "needs_background": "light"
     },
     "output_type": "display_data"
    }
   ],
   "source": [
    "acc = history.history['accuracy']\n",
    "val_acc = history.history['val_accuracy']\n",
    "\n",
    "loss = history.history['loss']\n",
    "val_loss = history.history['val_loss']\n",
    "\n",
    "epochs_range = range(10)\n",
    "\n",
    "plt.figure(figsize=(8, 8))\n",
    "plt.subplot(1, 2, 1)\n",
    "plt.plot(epochs_range, acc, label='Training Accuracy')\n",
    "plt.plot(epochs_range, val_acc, label='Validation Accuracy')\n",
    "plt.legend(loc='lower right')\n",
    "plt.title('Training and Validation Accuracy')\n",
    "\n",
    "plt.subplot(1, 2, 2)\n",
    "plt.plot(epochs_range, loss, label='Training Loss')\n",
    "plt.plot(epochs_range, val_loss, label='Validation Loss')\n",
    "plt.legend(loc='upper right')\n",
    "plt.title('Training and Validation Loss')\n",
    "plt.show()\n",
    "\n"
   ]
  }
 ],
 "metadata": {
  "interpreter": {
   "hash": "1e915f0a29dc84041eaeb02b7b1a21c440e37a87b61d44d5e84a515737dc82bc"
  },
  "kernelspec": {
   "display_name": "Python 3.8.8 64-bit ('base': conda)",
   "name": "python3"
  },
  "language_info": {
   "codemirror_mode": {
    "name": "ipython",
    "version": 3
   },
   "file_extension": ".py",
   "mimetype": "text/x-python",
   "name": "python",
   "nbconvert_exporter": "python",
   "pygments_lexer": "ipython3",
   "version": "3.8.8"
  },
  "orig_nbformat": 4
 },
 "nbformat": 4,
 "nbformat_minor": 2
}
