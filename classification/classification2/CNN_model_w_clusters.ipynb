{
 "cells": [
  {
   "cell_type": "code",
   "execution_count": 22,
   "metadata": {},
   "outputs": [],
   "source": [
    "import numpy as np\n",
    "import matplotlib.pyplot as plt\n",
    "import tensorflow as tf\n",
    "from tensorflow import keras\n",
    "from sklearn.model_selection import train_test_split\n",
    "from sklearn.metrics import balanced_accuracy_score, ConfusionMatrixDisplay, confusion_matrix\n",
    "from tensorflow.keras.layers import Conv2D, MaxPooling2D, Dropout, Flatten, Dense\n",
    "from tensorflow.keras.layers.experimental.preprocessing import RandomFlip, RandomRotation, RandomZoom, Resizing, Rescaling\n",
    "from sklearn.cluster import KMeans\n",
    "\n",
    "from tensorflow.keras.applications.inception_v3 import InceptionV3\n",
    "from tensorflow.keras.applications.inception_v3 import preprocess_input\n",
    "from tensorflow.keras.preprocessing import image\n",
    "from tensorflow.keras.preprocessing.image import img_to_array\n",
    "from sklearn.cluster import KMeans\n",
    "import pandas as pd\n",
    "import numpy as np\n",
    "from tqdm import tqdm\n",
    "import os\n",
    "import shutil"
   ]
  },
  {
   "cell_type": "code",
   "execution_count": 23,
   "metadata": {},
   "outputs": [],
   "source": [
    "# Extract data\n",
    "X = np.load('Xtrain_Classification_Part2.npy')\n",
    "y = np.load('Ytrain_Classification_Part2.npy')\n",
    "\n",
    "X_train, X_validate, train_labels, test_labels = train_test_split(X,y)\n"
   ]
  },
  {
   "cell_type": "code",
   "execution_count": 24,
   "metadata": {},
   "outputs": [],
   "source": [
    "class_names = ['caucasian', 'african', 'asian', 'indian']\n",
    "\n",
    "# Reshape to 50x50 pixel images\n",
    "pixels = 50\n",
    "train_images = []\n",
    "test_images = []\n",
    "\n",
    "for image in X_train:\n",
    "    train_images.append(image.reshape(pixels, pixels))\n",
    "\n",
    "for image in X_validate:\n",
    "    test_images.append(image.reshape(pixels, pixels))\n",
    "\n",
    "train_images = np.array(train_images)\n",
    "test_images = np.array(test_images)"
   ]
  },
  {
   "cell_type": "code",
   "execution_count": 25,
   "metadata": {},
   "outputs": [],
   "source": [
    "# Normalizing\n",
    "train_images = train_images / 255.0\n",
    "test_images = test_images / 255.0\n",
    "\n",
    "X_train = X_train / 255.0\n",
    "X_validate = X_validate / 255.0"
   ]
  },
  {
   "cell_type": "code",
   "execution_count": 26,
   "metadata": {},
   "outputs": [],
   "source": [
    "# Data augmentation\n",
    "\n",
    "data_augmentation = tf.keras.Sequential([\n",
    "  RandomFlip(\"horizontal\"),\n",
    "  RandomRotation(0.2),\n",
    "  RandomZoom(0.1),\n",
    "])\n",
    "\n"
   ]
  },
  {
   "cell_type": "code",
   "execution_count": 27,
   "metadata": {},
   "outputs": [],
   "source": [
    "caucasian_count = 0\n",
    "african_count = 0\n",
    "asian_count = 0\n",
    "indian_count = 0\n",
    "\n",
    "caucasian_train = []\n",
    "\n",
    "for index, label in enumerate(train_labels):\n",
    "    if label == 0:\n",
    "        caucasian_count += 1\n",
    "        caucasian_train.append(train_images[index])\n",
    "    elif label == 1:\n",
    "        african_count += 1\n",
    "    elif label == 2:\n",
    "        asian_count += 1\n",
    "    elif label == 3:\n",
    "        indian_count += 1"
   ]
  },
  {
   "cell_type": "code",
   "execution_count": 28,
   "metadata": {},
   "outputs": [],
   "source": [
    "# Extract features from data\n",
    "\n",
    "def image_feature(images):\n",
    "    features = []\n",
    "    pixels = 50\n",
    "\n",
    "    for img in images:\n",
    "        pix = img.reshape(pixels*pixels)\n",
    "        features.append(pix)\n",
    "        \n",
    "    return features"
   ]
  },
  {
   "cell_type": "code",
   "execution_count": 29,
   "metadata": {},
   "outputs": [
    {
     "name": "stdout",
     "output_type": "stream",
     "text": [
      "3359\n",
      "(2500,)\n"
     ]
    }
   ],
   "source": [
    "# Cluster Caucasian images in training data\n",
    "\n",
    "k = max(african_count, max(asian_count, indian_count))\n",
    "clusters = KMeans(n_clusters = k, max_iter = 100, n_init = 5, random_state = 20)\n",
    "print(len(image_feature(caucasian_train)))\n",
    "print(image_feature(caucasian_train)[0].shape)\n",
    "clusters.fit(image_feature(caucasian_train))\n",
    "\n",
    "caucasian_clusters = clusters.cluster_centers_"
   ]
  },
  {
   "cell_type": "code",
   "execution_count": 30,
   "metadata": {},
   "outputs": [],
   "source": [
    "caucasian_train = np.array(caucasian_train)\n",
    "reshaped_data = caucasian_train.reshape(len(caucasian_train),-1)\n",
    "\n",
    "clusters_caucasian = clusters.fit_predict(reshaped_data)"
   ]
  },
  {
   "cell_type": "code",
   "execution_count": 31,
   "metadata": {},
   "outputs": [
    {
     "data": {
      "text/plain": [
       "(989, 2500)"
      ]
     },
     "execution_count": 31,
     "metadata": {},
     "output_type": "execute_result"
    }
   ],
   "source": [
    "clusters_caucasian = clusters.cluster_centers_\n",
    "clusters_caucasian.shape"
   ]
  },
  {
   "cell_type": "code",
   "execution_count": 32,
   "metadata": {},
   "outputs": [
    {
     "name": "stdout",
     "output_type": "stream",
     "text": [
      "(989, 50, 50)\n",
      "(50, 50)\n"
     ]
    }
   ],
   "source": [
    "# Update training set\n",
    "#pixels = 50\n",
    "\n",
    "new_train_images = []\n",
    "new_train_labels = []\n",
    "\n",
    "caucasian_count = 0\n",
    "\n",
    "caucasian_images = []\n",
    "\n",
    "for image in clusters_caucasian:\n",
    "    caucasian_images.append(image.reshape(pixels, pixels))\n",
    "\n",
    "caucasian_images = np.array(caucasian_images)\n",
    "print(caucasian_images.shape)\n",
    "\n",
    "for index, label in enumerate(train_labels):\n",
    "    if label != 0:\n",
    "        new_train_images.append(train_images[index].reshape(pixels,pixels))\n",
    "        #print(train_images[index].reshape(pixels,pixels))\n",
    "        new_train_labels.append(label)\n",
    "    elif caucasian_count < len(caucasian_images):\n",
    "        new_train_images.append(caucasian_images[caucasian_count].reshape(pixels,pixels))\n",
    "        new_train_labels.append(label)\n",
    "        caucasian_count += 1\n",
    "\n",
    "print(new_train_images[0].shape)\n",
    "\n",
    "#new_train_images = np.reshape(new_train_images, (len(new_train_images), 50, 50))\n",
    "\n",
    "new_train_images = np.array(new_train_images)\n"
   ]
  },
  {
   "cell_type": "code",
   "execution_count": 33,
   "metadata": {},
   "outputs": [],
   "source": [
    "# Building CNN Model\n",
    "model = keras.Sequential()\n",
    "#model.add(data_augmentation)\n",
    "model.add(Conv2D(32, (3, 3), padding='same', activation='relu', input_shape=(50, 50, 1)))\n",
    "model.add(MaxPooling2D((2, 2)))\n",
    "model.add(Dropout(0.2))\n",
    "model.add(Conv2D(64, (3, 3), padding='same', activation='relu'))\n",
    "model.add(MaxPooling2D((2, 2)))\n",
    "model.add(Dropout(0.2))\n",
    "model.add(Conv2D(64, (3, 3), padding='same', activation='relu'))\n",
    "model.add(Flatten())\n",
    "model.add(Dense(64, activation='relu'))\n",
    "model.add(Dropout(0.2))\n",
    "model.add(Dense(4, activation=\"softmax\"))"
   ]
  },
  {
   "cell_type": "code",
   "execution_count": 34,
   "metadata": {},
   "outputs": [],
   "source": [
    "model.compile(  optimizer='adam',\n",
    "                loss = 'sparse_categorical_crossentropy', #'binary_crossentropy',\n",
    "                metrics = ['accuracy'])"
   ]
  },
  {
   "cell_type": "code",
   "execution_count": 35,
   "metadata": {},
   "outputs": [
    {
     "name": "stdout",
     "output_type": "stream",
     "text": [
      "Epoch 1/10\n",
      "99/99 [==============================] - 11s 110ms/step - loss: 1.2762 - accuracy: 0.3719 - val_loss: 1.1403 - val_accuracy: 0.4658\n",
      "Epoch 2/10\n",
      "99/99 [==============================] - 10s 105ms/step - loss: 1.0663 - accuracy: 0.5415 - val_loss: 0.9533 - val_accuracy: 0.6189\n",
      "Epoch 3/10\n",
      "99/99 [==============================] - 11s 107ms/step - loss: 0.8983 - accuracy: 0.6367 - val_loss: 0.8500 - val_accuracy: 0.6612\n",
      "Epoch 4/10\n",
      "99/99 [==============================] - 11s 106ms/step - loss: 0.7767 - accuracy: 0.6985 - val_loss: 0.8257 - val_accuracy: 0.6846\n",
      "Epoch 5/10\n",
      "99/99 [==============================] - 11s 111ms/step - loss: 0.6844 - accuracy: 0.7378 - val_loss: 0.8158 - val_accuracy: 0.6650\n",
      "Epoch 6/10\n",
      "99/99 [==============================] - 12s 119ms/step - loss: 0.6365 - accuracy: 0.7720 - val_loss: 0.7142 - val_accuracy: 0.7400\n",
      "Epoch 7/10\n",
      "99/99 [==============================] - 13s 130ms/step - loss: 0.5678 - accuracy: 0.7974 - val_loss: 0.5846 - val_accuracy: 0.7904\n",
      "Epoch 8/10\n",
      "99/99 [==============================] - 11s 109ms/step - loss: 0.5349 - accuracy: 0.8094 - val_loss: 0.6015 - val_accuracy: 0.7839\n",
      "Epoch 9/10\n",
      "99/99 [==============================] - 11s 114ms/step - loss: 0.5009 - accuracy: 0.8107 - val_loss: 0.6188 - val_accuracy: 0.7877\n",
      "Epoch 10/10\n",
      "99/99 [==============================] - 13s 127ms/step - loss: 0.4401 - accuracy: 0.8399 - val_loss: 0.7250 - val_accuracy: 0.7438\n"
     ]
    }
   ],
   "source": [
    "# Train model\n",
    "#train_images = np.reshape(train_images, (len(train_images), 50, 50, 1))\n",
    "test_images = np.reshape(test_images, (len(test_images),50, 50, 1))\n",
    "test_images = np.asarray(test_images)\n",
    "\n",
    "new_train_images = np.reshape(new_train_images, (len(new_train_images), 50, 50, 1))\n",
    "new_train_images = np.asarray(new_train_images)\n",
    "\n",
    "new_train_labels = np.asarray(new_train_labels)\n",
    "#print(type(new_train_images))\n",
    "#print(type(train_images))\n",
    "history = model.fit(new_train_images, new_train_labels, validation_data = (test_images, test_labels), epochs = 10)"
   ]
  },
  {
   "cell_type": "code",
   "execution_count": 36,
   "metadata": {},
   "outputs": [
    {
     "name": "stdout",
     "output_type": "stream",
     "text": [
      "Model: \"sequential_3\"\n",
      "_________________________________________________________________\n",
      "Layer (type)                 Output Shape              Param #   \n",
      "=================================================================\n",
      "conv2d_3 (Conv2D)            (None, 50, 50, 32)        320       \n",
      "_________________________________________________________________\n",
      "max_pooling2d_2 (MaxPooling2 (None, 25, 25, 32)        0         \n",
      "_________________________________________________________________\n",
      "dropout_3 (Dropout)          (None, 25, 25, 32)        0         \n",
      "_________________________________________________________________\n",
      "conv2d_4 (Conv2D)            (None, 25, 25, 64)        18496     \n",
      "_________________________________________________________________\n",
      "max_pooling2d_3 (MaxPooling2 (None, 12, 12, 64)        0         \n",
      "_________________________________________________________________\n",
      "dropout_4 (Dropout)          (None, 12, 12, 64)        0         \n",
      "_________________________________________________________________\n",
      "conv2d_5 (Conv2D)            (None, 12, 12, 64)        36928     \n",
      "_________________________________________________________________\n",
      "flatten_1 (Flatten)          (None, 9216)              0         \n",
      "_________________________________________________________________\n",
      "dense_2 (Dense)              (None, 64)                589888    \n",
      "_________________________________________________________________\n",
      "dropout_5 (Dropout)          (None, 64)                0         \n",
      "_________________________________________________________________\n",
      "dense_3 (Dense)              (None, 4)                 260       \n",
      "=================================================================\n",
      "Total params: 645,892\n",
      "Trainable params: 645,892\n",
      "Non-trainable params: 0\n",
      "_________________________________________________________________\n"
     ]
    }
   ],
   "source": [
    "model.summary()"
   ]
  },
  {
   "cell_type": "code",
   "execution_count": 37,
   "metadata": {},
   "outputs": [
    {
     "name": "stdout",
     "output_type": "stream",
     "text": [
      "58/58 [==============================] - 1s 22ms/step - loss: 0.7250 - accuracy: 0.7438\n",
      "Test accuracy: 0.7437567710876465\n"
     ]
    }
   ],
   "source": [
    "# Accuracy\n",
    "test_images = test_images.reshape(-1, 50, 50, 1)\n",
    "test_loss, test_acc = model.evaluate(test_images, test_labels)\n",
    "print('Test accuracy:', test_acc)"
   ]
  },
  {
   "cell_type": "code",
   "execution_count": 38,
   "metadata": {},
   "outputs": [
    {
     "data": {
      "text/plain": [
       "array([[2.8791300e-03, 3.1154034e-01, 9.9800853e-03, 6.7560047e-01],\n",
       "       [1.9014058e-01, 1.1275650e-02, 7.9206389e-01, 6.5197716e-03],\n",
       "       [8.9259368e-01, 2.2649795e-03, 8.9046046e-02, 1.6095296e-02],\n",
       "       ...,\n",
       "       [9.9305660e-01, 1.8278329e-04, 7.5201318e-04, 6.0087061e-03],\n",
       "       [5.7227118e-03, 2.5733381e-05, 9.9398130e-01, 2.7026632e-04],\n",
       "       [6.3373959e-01, 5.5516249e-04, 1.4029022e-01, 2.2541499e-01]],\n",
       "      dtype=float32)"
      ]
     },
     "execution_count": 38,
     "metadata": {},
     "output_type": "execute_result"
    }
   ],
   "source": [
    "predictions = model.predict(test_images) #test_images\n",
    "predictions"
   ]
  },
  {
   "cell_type": "code",
   "execution_count": 39,
   "metadata": {},
   "outputs": [
    {
     "name": "stdout",
     "output_type": "stream",
     "text": [
      "[3 2 0 ... 0 2 0]\n"
     ]
    }
   ],
   "source": [
    "# Turn predictions into labels\n",
    "y_predicted = []\n",
    "\n",
    "for i in predictions:\n",
    "    y_predicted.append(np.argmax(i))\n",
    "\n",
    "y_predicted = np.array(y_predicted)\n",
    "print(y_predicted)"
   ]
  },
  {
   "cell_type": "code",
   "execution_count": 40,
   "metadata": {},
   "outputs": [
    {
     "name": "stdout",
     "output_type": "stream",
     "text": [
      "BACC = 70.805906537545\n"
     ]
    },
    {
     "data": {
      "image/png": "[encoded data removed]",
      "text/plain": [
       "<Figure size 432x288 with 2 Axes>"
      ]
     },
     "metadata": {
      "needs_background": "light"
     },
     "output_type": "display_data"
    }
   ],
   "source": [
    "bacc = balanced_accuracy_score(test_labels, y_predicted)\n",
    "\n",
    "cm = confusion_matrix(test_labels, y_predicted)\n",
    "disp = ConfusionMatrixDisplay(confusion_matrix=cm)\n",
    "\n",
    "disp.plot()\n",
    "print(f\"BACC = {bacc * 100}\")"
   ]
  },
  {
   "cell_type": "code",
   "execution_count": 41,
   "metadata": {},
   "outputs": [],
   "source": [
    "def plot_image(i, predictions_array, true_label, img):\n",
    "    predictions_array, true_label, img = predictions_array[i], true_label[i], img[i]\n",
    "    plt.grid(False)\n",
    "    plt.xticks([])\n",
    "    plt.yticks([])\n",
    "    plt.imshow(img, cmap=plt.cm.binary)\n",
    "\n",
    "    predicted_label = np.argmax(predictions_array)\n",
    "    if predicted_label == true_label:\n",
    "        color = 'blue'\n",
    "    else:\n",
    "        color = 'red'\n",
    "\n",
    "    plt.xlabel(\"{} {:2.0f}% ({})\".format(class_names[predicted_label],\n",
    "                                            100*np.max(predictions_array),\n",
    "                                            class_names[true_label]),\n",
    "                                            color = color)\n",
    "\n",
    "def plot_value_array(i, predictions_array, true_label):\n",
    "    predictions_array, true_label = predictions_array[i], true_label[i]\n",
    "    plt.grid(False)\n",
    "    plt.xticks([])\n",
    "    plt.yticks([])\n",
    "    thisplot = plt.bar(range(10), predictions_array, color = '#777777')\n",
    "    plt.ylim([0, 1])\n",
    "    predicted_label = np.argmax(predictions_array)\n",
    "\n",
    "    thisplot[predicted_label].set_color('red')\n",
    "    thisplot[true_label].set_color('green')"
   ]
  },
  {
   "cell_type": "code",
   "execution_count": 42,
   "metadata": {},
   "outputs": [
    {
     "data": {
      "image/png": "[encoded data removed]",
      "text/plain": [
       "<Figure size 576x576 with 2 Axes>"
      ]
     },
     "metadata": {
      "needs_background": "light"
     },
     "output_type": "display_data"
    }
   ],
   "source": [
    "acc = history.history['accuracy']\n",
    "val_acc = history.history['val_accuracy']\n",
    "\n",
    "loss = history.history['loss']\n",
    "val_loss = history.history['val_loss']\n",
    "\n",
    "epochs_range = range(10)\n",
    "\n",
    "plt.figure(figsize=(8, 8))\n",
    "plt.subplot(1, 2, 1)\n",
    "plt.plot(epochs_range, acc, label='Training Accuracy')\n",
    "plt.plot(epochs_range, val_acc, label='Validation Accuracy')\n",
    "plt.legend(loc='lower right')\n",
    "plt.title('Training and Validation Accuracy')\n",
    "\n",
    "plt.subplot(1, 2, 2)\n",
    "plt.plot(epochs_range, loss, label='Training Loss')\n",
    "plt.plot(epochs_range, val_loss, label='Validation Loss')\n",
    "plt.legend(loc='upper right')\n",
    "plt.title('Training and Validation Loss')\n",
    "plt.show()\n",
    "\n"
   ]
  }
 ],
 "metadata": {
  "interpreter": {
   "hash": "1e915f0a29dc84041eaeb02b7b1a21c440e37a87b61d44d5e84a515737dc82bc"
  },
  "kernelspec": {
   "display_name": "Python 3.8.8 64-bit ('base': conda)",
   "name": "python3"
  },
  "language_info": {
   "codemirror_mode": {
    "name": "ipython",
    "version": 3
   },
   "file_extension": ".py",
   "mimetype": "text/x-python",
   "name": "python",
   "nbconvert_exporter": "python",
   "pygments_lexer": "ipython3",
   "version": "3.8.8"
  },
  "orig_nbformat": 4
 },
 "nbformat": 4,
 "nbformat_minor": 2
}
